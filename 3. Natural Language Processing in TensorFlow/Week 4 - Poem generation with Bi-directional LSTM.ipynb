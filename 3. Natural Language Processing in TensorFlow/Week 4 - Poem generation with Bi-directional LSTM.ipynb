{
  "nbformat": 4,
  "nbformat_minor": 0,
  "metadata": {
    "colab": {
      "name": "NLP-Week4-Exercise-Shakespeare-Question.ipynb",
      "version": "0.3.2",
      "provenance": []
    },
    "kernelspec": {
      "name": "python2",
      "display_name": "Python 2"
    },
    "accelerator": "GPU"
  },
  "cells": [
    {
      "cell_type": "code",
      "metadata": {
        "id": "BOwsuGQQY9OL",
        "colab_type": "code",
        "colab": {}
      },
      "source": [
        "from tensorflow.keras.preprocessing.sequence import pad_sequences\n",
        "from tensorflow.keras.layers import Embedding, LSTM, Dense, Dropout, Bidirectional\n",
        "from tensorflow.keras.preprocessing.text import Tokenizer\n",
        "from tensorflow.keras.models import Sequential\n",
        "from tensorflow.keras.optimizers import Adam\n",
        "from tensorflow.keras import regularizers\n",
        "import tensorflow.keras.utils as ku \n",
        "import numpy as np "
      ],
      "execution_count": 0,
      "outputs": []
    },
    {
      "cell_type": "code",
      "metadata": {
        "id": "buwQfXNhoHHM",
        "colab_type": "code",
        "colab": {
          "base_uri": "https://localhost:8080/",
          "height": 204
        },
        "outputId": "773b2b28-86fd-4ff7-dd2c-a3704b62a167"
      },
      "source": [
        "!wget --no-check-certificate \\\n",
        "    https://storage.googleapis.com/laurencemoroney-blog.appspot.com/sonnets.txt \\\n",
        "    -O /tmp/sonnets.txt"
      ],
      "execution_count": 2,
      "outputs": [
        {
          "output_type": "stream",
          "text": [
            "--2019-08-02 13:59:25--  https://storage.googleapis.com/laurencemoroney-blog.appspot.com/sonnets.txt\n",
            "Resolving storage.googleapis.com (storage.googleapis.com)... 172.217.31.176, 2404:6800:4004:80c::2010\n",
            "Connecting to storage.googleapis.com (storage.googleapis.com)|172.217.31.176|:443... connected.\n",
            "HTTP request sent, awaiting response... 200 OK\n",
            "Length: 93578 (91K) [text/plain]\n",
            "Saving to: ‘/tmp/sonnets.txt’\n",
            "\n",
            "/tmp/sonnets.txt    100%[===================>]  91.38K  --.-KB/s    in 0.001s  \n",
            "\n",
            "2019-08-02 13:59:31 (123 MB/s) - ‘/tmp/sonnets.txt’ saved [93578/93578]\n",
            "\n"
          ],
          "name": "stdout"
        }
      ]
    },
    {
      "cell_type": "code",
      "metadata": {
        "colab_type": "code",
        "id": "PRnDnCW-Z7qv",
        "colab": {}
      },
      "source": [
        "data = open('/tmp/sonnets.txt').read()\n",
        "corpus = data.lower().split(\"\\n\")\n",
        "\n",
        "tokenizer = Tokenizer()\n",
        "tokenizer.fit_on_texts(corpus)\n",
        "total_words = len(tokenizer.word_index) + 1\n",
        "\n",
        "# create input sequences using list of tokens\n",
        "input_sequences = []\n",
        "for line in corpus:\n",
        "\ttoken_list = tokenizer.texts_to_sequences([line])[0]\n",
        "\tfor i in range(1, len(token_list)):\n",
        "\t\tn_gram_sequence = token_list[:i+1]\n",
        "\t\tinput_sequences.append(n_gram_sequence)\n",
        "\n",
        "# pad sequences \n",
        "max_sequence_len = max([len(x) for x in input_sequences])\n",
        "input_sequences = np.array(pad_sequences(input_sequences, maxlen=max_sequence_len, padding='pre'))\n",
        "\n",
        "# create predictors and label\n",
        "predictors, label = input_sequences[:,:-1],input_sequences[:,-1]\n",
        "\n",
        "label = ku.to_categorical(label, num_classes=total_words)"
      ],
      "execution_count": 0,
      "outputs": []
    },
    {
      "cell_type": "code",
      "metadata": {
        "id": "w9vH8Y59ajYL",
        "colab_type": "code",
        "colab": {
          "base_uri": "https://localhost:8080/",
          "height": 374
        },
        "outputId": "344a813b-8aff-44e6-e5ee-eb1ff417b624"
      },
      "source": [
        "model = Sequential()\n",
        "model.add(Embedding(total_words, 128, input_length=max_sequence_len - 1))\n",
        "model.add(Bidirectional(LSTM(120, return_sequences=True)))\n",
        "model.add(Dropout(0.2))\n",
        "model.add(LSTM(96))\n",
        "model.add(Dense(total_words/2, activation='relu', kernel_regularizer=regularizers.l2(0.01)))\n",
        "model.add(Dense(total_words, activation='softmax'))\n",
        "\n",
        "\n",
        "model.compile(\n",
        "    loss='categorical_crossentropy',\n",
        "    optimizer='adam',\n",
        "    metrics=['accuracy']\n",
        ")\n",
        "\n",
        "print(model.summary())"
      ],
      "execution_count": 9,
      "outputs": [
        {
          "output_type": "stream",
          "text": [
            "Model: \"sequential_3\"\n",
            "_________________________________________________________________\n",
            "Layer (type)                 Output Shape              Param #   \n",
            "=================================================================\n",
            "embedding_1 (Embedding)      (None, 10, 128)           411008    \n",
            "_________________________________________________________________\n",
            "bidirectional_1 (Bidirection (None, 10, 240)           239040    \n",
            "_________________________________________________________________\n",
            "dropout_1 (Dropout)          (None, 10, 240)           0         \n",
            "_________________________________________________________________\n",
            "lstm_3 (LSTM)                (None, 96)                129408    \n",
            "_________________________________________________________________\n",
            "dense_2 (Dense)              (None, 1605)              155685    \n",
            "_________________________________________________________________\n",
            "dense_3 (Dense)              (None, 3211)              5156866   \n",
            "=================================================================\n",
            "Total params: 6,092,007\n",
            "Trainable params: 6,092,007\n",
            "Non-trainable params: 0\n",
            "_________________________________________________________________\n",
            "None\n"
          ],
          "name": "stdout"
        }
      ]
    },
    {
      "cell_type": "code",
      "metadata": {
        "id": "AIg2f1HBxqof",
        "colab_type": "code",
        "colab": {
          "base_uri": "https://localhost:8080/",
          "height": 1000
        },
        "outputId": "59e8e0ab-7945-44ef-cc9d-a9ecc486265c"
      },
      "source": [
        " history = model.fit(predictors, label, epochs=100, verbose=1)"
      ],
      "execution_count": 10,
      "outputs": [
        {
          "output_type": "stream",
          "text": [
            "Epoch 1/100\n",
            "15462/15462 [==============================] - 27s 2ms/sample - loss: 6.9226 - acc: 0.0205\n",
            "Epoch 2/100\n",
            "15462/15462 [==============================] - 26s 2ms/sample - loss: 6.4987 - acc: 0.0222\n",
            "Epoch 3/100\n",
            "15462/15462 [==============================] - 26s 2ms/sample - loss: 6.3831 - acc: 0.0268\n",
            "Epoch 4/100\n",
            "15462/15462 [==============================] - 26s 2ms/sample - loss: 6.2617 - acc: 0.0288\n",
            "Epoch 5/100\n",
            "15462/15462 [==============================] - 26s 2ms/sample - loss: 6.1747 - acc: 0.0316\n",
            "Epoch 6/100\n",
            "15462/15462 [==============================] - 26s 2ms/sample - loss: 6.0947 - acc: 0.0373\n",
            "Epoch 7/100\n",
            "15462/15462 [==============================] - 26s 2ms/sample - loss: 6.0190 - acc: 0.0405\n",
            "Epoch 8/100\n",
            "15462/15462 [==============================] - 26s 2ms/sample - loss: 5.9429 - acc: 0.0427\n",
            "Epoch 9/100\n",
            "15462/15462 [==============================] - 26s 2ms/sample - loss: 5.8497 - acc: 0.0490\n",
            "Epoch 10/100\n",
            "15462/15462 [==============================] - 25s 2ms/sample - loss: 5.7445 - acc: 0.0550\n",
            "Epoch 11/100\n",
            "15462/15462 [==============================] - 26s 2ms/sample - loss: 5.6391 - acc: 0.0619\n",
            "Epoch 12/100\n",
            "15462/15462 [==============================] - 26s 2ms/sample - loss: 5.5274 - acc: 0.0673\n",
            "Epoch 13/100\n",
            "15462/15462 [==============================] - 26s 2ms/sample - loss: 5.4248 - acc: 0.0717\n",
            "Epoch 14/100\n",
            "15462/15462 [==============================] - 25s 2ms/sample - loss: 5.3248 - acc: 0.0810\n",
            "Epoch 15/100\n",
            "15462/15462 [==============================] - 26s 2ms/sample - loss: 5.2271 - acc: 0.0900\n",
            "Epoch 16/100\n",
            "15462/15462 [==============================] - 25s 2ms/sample - loss: 5.1198 - acc: 0.0960\n",
            "Epoch 17/100\n",
            "15462/15462 [==============================] - 26s 2ms/sample - loss: 5.0165 - acc: 0.1056\n",
            "Epoch 18/100\n",
            "15462/15462 [==============================] - 26s 2ms/sample - loss: 4.9097 - acc: 0.1156\n",
            "Epoch 19/100\n",
            "15462/15462 [==============================] - 26s 2ms/sample - loss: 4.8042 - acc: 0.1257\n",
            "Epoch 20/100\n",
            "15462/15462 [==============================] - 25s 2ms/sample - loss: 4.6978 - acc: 0.1334\n",
            "Epoch 21/100\n",
            "15462/15462 [==============================] - 26s 2ms/sample - loss: 4.5892 - acc: 0.1471\n",
            "Epoch 22/100\n",
            "15462/15462 [==============================] - 26s 2ms/sample - loss: 4.4919 - acc: 0.1552\n",
            "Epoch 23/100\n",
            "15462/15462 [==============================] - 25s 2ms/sample - loss: 4.3907 - acc: 0.1684\n",
            "Epoch 24/100\n",
            "15462/15462 [==============================] - 26s 2ms/sample - loss: 4.2843 - acc: 0.1787\n",
            "Epoch 25/100\n",
            "15462/15462 [==============================] - 26s 2ms/sample - loss: 4.1810 - acc: 0.1906\n",
            "Epoch 26/100\n",
            "15462/15462 [==============================] - 26s 2ms/sample - loss: 4.0851 - acc: 0.2020\n",
            "Epoch 27/100\n",
            "15462/15462 [==============================] - 26s 2ms/sample - loss: 3.9917 - acc: 0.2178\n",
            "Epoch 28/100\n",
            "15462/15462 [==============================] - 25s 2ms/sample - loss: 3.8869 - acc: 0.2338\n",
            "Epoch 29/100\n",
            "15462/15462 [==============================] - 25s 2ms/sample - loss: 3.7916 - acc: 0.2469\n",
            "Epoch 30/100\n",
            "15462/15462 [==============================] - 26s 2ms/sample - loss: 3.7031 - acc: 0.2620\n",
            "Epoch 31/100\n",
            "15462/15462 [==============================] - 26s 2ms/sample - loss: 3.6109 - acc: 0.2800\n",
            "Epoch 32/100\n",
            "15462/15462 [==============================] - 25s 2ms/sample - loss: 3.5245 - acc: 0.3002\n",
            "Epoch 33/100\n",
            "15462/15462 [==============================] - 26s 2ms/sample - loss: 3.4184 - acc: 0.3159\n",
            "Epoch 34/100\n",
            "15462/15462 [==============================] - 26s 2ms/sample - loss: 3.3496 - acc: 0.3333\n",
            "Epoch 35/100\n",
            "15462/15462 [==============================] - 25s 2ms/sample - loss: 3.2696 - acc: 0.3522\n",
            "Epoch 36/100\n",
            "15462/15462 [==============================] - 25s 2ms/sample - loss: 3.1860 - acc: 0.3675\n",
            "Epoch 37/100\n",
            "15462/15462 [==============================] - 26s 2ms/sample - loss: 3.1161 - acc: 0.3869\n",
            "Epoch 38/100\n",
            "15462/15462 [==============================] - 25s 2ms/sample - loss: 3.0326 - acc: 0.4021\n",
            "Epoch 39/100\n",
            "15462/15462 [==============================] - 25s 2ms/sample - loss: 2.9627 - acc: 0.4170\n",
            "Epoch 40/100\n",
            "15462/15462 [==============================] - 25s 2ms/sample - loss: 2.9014 - acc: 0.4340\n",
            "Epoch 41/100\n",
            "15462/15462 [==============================] - 25s 2ms/sample - loss: 2.8359 - acc: 0.4481\n",
            "Epoch 42/100\n",
            "15462/15462 [==============================] - 25s 2ms/sample - loss: 2.7605 - acc: 0.4600\n",
            "Epoch 43/100\n",
            "15462/15462 [==============================] - 26s 2ms/sample - loss: 2.7006 - acc: 0.4787\n",
            "Epoch 44/100\n",
            "15462/15462 [==============================] - 25s 2ms/sample - loss: 2.6515 - acc: 0.4907\n",
            "Epoch 45/100\n",
            "15462/15462 [==============================] - 27s 2ms/sample - loss: 2.5873 - acc: 0.5019\n",
            "Epoch 46/100\n",
            "15462/15462 [==============================] - 27s 2ms/sample - loss: 2.5397 - acc: 0.5107\n",
            "Epoch 47/100\n",
            "15462/15462 [==============================] - 26s 2ms/sample - loss: 2.4802 - acc: 0.5285\n",
            "Epoch 48/100\n",
            "15462/15462 [==============================] - 25s 2ms/sample - loss: 2.4341 - acc: 0.5369\n",
            "Epoch 49/100\n",
            "15462/15462 [==============================] - 26s 2ms/sample - loss: 2.3793 - acc: 0.5517\n",
            "Epoch 50/100\n",
            "15462/15462 [==============================] - 26s 2ms/sample - loss: 2.3334 - acc: 0.5612\n",
            "Epoch 51/100\n",
            "15462/15462 [==============================] - 25s 2ms/sample - loss: 2.2880 - acc: 0.5680\n",
            "Epoch 52/100\n",
            "15462/15462 [==============================] - 26s 2ms/sample - loss: 2.2537 - acc: 0.5768\n",
            "Epoch 53/100\n",
            "15462/15462 [==============================] - 25s 2ms/sample - loss: 2.2152 - acc: 0.5838\n",
            "Epoch 54/100\n",
            "15462/15462 [==============================] - 26s 2ms/sample - loss: 2.1714 - acc: 0.5964\n",
            "Epoch 55/100\n",
            "15462/15462 [==============================] - 26s 2ms/sample - loss: 2.1162 - acc: 0.6090\n",
            "Epoch 56/100\n",
            "15462/15462 [==============================] - 26s 2ms/sample - loss: 2.0903 - acc: 0.6143\n",
            "Epoch 57/100\n",
            "15462/15462 [==============================] - 26s 2ms/sample - loss: 2.0391 - acc: 0.6221\n",
            "Epoch 58/100\n",
            "15462/15462 [==============================] - 26s 2ms/sample - loss: 2.0100 - acc: 0.6314\n",
            "Epoch 59/100\n",
            "15462/15462 [==============================] - 26s 2ms/sample - loss: 1.9844 - acc: 0.6343\n",
            "Epoch 60/100\n",
            "15462/15462 [==============================] - 25s 2ms/sample - loss: 1.9470 - acc: 0.6442\n",
            "Epoch 61/100\n",
            "15462/15462 [==============================] - 26s 2ms/sample - loss: 1.9101 - acc: 0.6533\n",
            "Epoch 62/100\n",
            "15462/15462 [==============================] - 26s 2ms/sample - loss: 1.8738 - acc: 0.6628\n",
            "Epoch 63/100\n",
            "15462/15462 [==============================] - 26s 2ms/sample - loss: 1.8455 - acc: 0.6632\n",
            "Epoch 64/100\n",
            "15462/15462 [==============================] - 26s 2ms/sample - loss: 1.8240 - acc: 0.6689\n",
            "Epoch 65/100\n",
            "15462/15462 [==============================] - 26s 2ms/sample - loss: 1.7936 - acc: 0.6752\n",
            "Epoch 66/100\n",
            "15462/15462 [==============================] - 26s 2ms/sample - loss: 1.7736 - acc: 0.6780\n",
            "Epoch 67/100\n",
            "15462/15462 [==============================] - 25s 2ms/sample - loss: 1.7475 - acc: 0.6853\n",
            "Epoch 68/100\n",
            "15462/15462 [==============================] - 26s 2ms/sample - loss: 1.6958 - acc: 0.7006\n",
            "Epoch 69/100\n",
            "15462/15462 [==============================] - 26s 2ms/sample - loss: 1.6720 - acc: 0.7018\n",
            "Epoch 70/100\n",
            "15462/15462 [==============================] - 26s 2ms/sample - loss: 1.6622 - acc: 0.7013\n",
            "Epoch 71/100\n",
            "15462/15462 [==============================] - 26s 2ms/sample - loss: 1.6377 - acc: 0.7079\n",
            "Epoch 72/100\n",
            "15462/15462 [==============================] - 26s 2ms/sample - loss: 1.6156 - acc: 0.7108\n",
            "Epoch 73/100\n",
            "15462/15462 [==============================] - 26s 2ms/sample - loss: 1.5802 - acc: 0.7220\n",
            "Epoch 74/100\n",
            "15462/15462 [==============================] - 26s 2ms/sample - loss: 1.5764 - acc: 0.7204\n",
            "Epoch 75/100\n",
            "15462/15462 [==============================] - 26s 2ms/sample - loss: 1.5500 - acc: 0.7271\n",
            "Epoch 76/100\n",
            "15462/15462 [==============================] - 26s 2ms/sample - loss: 1.5252 - acc: 0.7302\n",
            "Epoch 77/100\n",
            "15462/15462 [==============================] - 26s 2ms/sample - loss: 1.5125 - acc: 0.7318\n",
            "Epoch 78/100\n",
            "15462/15462 [==============================] - 26s 2ms/sample - loss: 1.5003 - acc: 0.7344\n",
            "Epoch 79/100\n",
            "15462/15462 [==============================] - 26s 2ms/sample - loss: 1.4706 - acc: 0.7364\n",
            "Epoch 80/100\n",
            "15462/15462 [==============================] - 26s 2ms/sample - loss: 1.4482 - acc: 0.7480\n",
            "Epoch 81/100\n",
            "15462/15462 [==============================] - 26s 2ms/sample - loss: 1.4341 - acc: 0.7497\n",
            "Epoch 82/100\n",
            "15462/15462 [==============================] - 26s 2ms/sample - loss: 1.4092 - acc: 0.7535\n",
            "Epoch 83/100\n",
            "15462/15462 [==============================] - 26s 2ms/sample - loss: 1.3975 - acc: 0.7566\n",
            "Epoch 84/100\n",
            "15462/15462 [==============================] - 26s 2ms/sample - loss: 1.3884 - acc: 0.7573\n",
            "Epoch 85/100\n",
            "15462/15462 [==============================] - 26s 2ms/sample - loss: 1.3769 - acc: 0.7573\n",
            "Epoch 86/100\n",
            "15462/15462 [==============================] - 26s 2ms/sample - loss: 1.3669 - acc: 0.7588\n",
            "Epoch 87/100\n",
            "15462/15462 [==============================] - 26s 2ms/sample - loss: 1.3528 - acc: 0.7646\n",
            "Epoch 88/100\n",
            "15462/15462 [==============================] - 26s 2ms/sample - loss: 1.3151 - acc: 0.7722\n",
            "Epoch 89/100\n",
            "15462/15462 [==============================] - 25s 2ms/sample - loss: 1.3104 - acc: 0.7725\n",
            "Epoch 90/100\n",
            "15462/15462 [==============================] - 26s 2ms/sample - loss: 1.3108 - acc: 0.7694\n",
            "Epoch 91/100\n",
            "15462/15462 [==============================] - 25s 2ms/sample - loss: 1.2891 - acc: 0.7762\n",
            "Epoch 92/100\n",
            "15462/15462 [==============================] - 25s 2ms/sample - loss: 1.2855 - acc: 0.7743\n",
            "Epoch 93/100\n",
            "15462/15462 [==============================] - 26s 2ms/sample - loss: 1.2780 - acc: 0.7755\n",
            "Epoch 94/100\n",
            "15462/15462 [==============================] - 25s 2ms/sample - loss: 1.2606 - acc: 0.7811\n",
            "Epoch 95/100\n",
            "15462/15462 [==============================] - 25s 2ms/sample - loss: 1.2431 - acc: 0.7808\n",
            "Epoch 96/100\n",
            "15462/15462 [==============================] - 25s 2ms/sample - loss: 1.2172 - acc: 0.7850\n",
            "Epoch 97/100\n",
            "15462/15462 [==============================] - 26s 2ms/sample - loss: 1.2135 - acc: 0.7867\n",
            "Epoch 98/100\n",
            "15462/15462 [==============================] - 26s 2ms/sample - loss: 1.2004 - acc: 0.7906\n",
            "Epoch 99/100\n",
            "15462/15462 [==============================] - 26s 2ms/sample - loss: 1.1959 - acc: 0.7892\n",
            "Epoch 100/100\n",
            "15462/15462 [==============================] - 26s 2ms/sample - loss: 1.1914 - acc: 0.7906\n"
          ],
          "name": "stdout"
        }
      ]
    },
    {
      "cell_type": "code",
      "metadata": {
        "id": "1fXTEO3GJ282",
        "colab_type": "code",
        "colab": {
          "base_uri": "https://localhost:8080/",
          "height": 545
        },
        "outputId": "5e64ddb1-6303-4239-d775-99c725b98e2e"
      },
      "source": [
        "import matplotlib.pyplot as plt\n",
        "acc = history.history['acc']\n",
        "loss = history.history['loss']\n",
        "\n",
        "epochs = range(len(acc))\n",
        "\n",
        "plt.plot(epochs, acc, 'b', label='Training accuracy')\n",
        "plt.title('Training accuracy')\n",
        "\n",
        "plt.figure()\n",
        "\n",
        "plt.plot(epochs, loss, 'b', label='Training Loss')\n",
        "plt.title('Training loss')\n",
        "plt.legend()\n",
        "\n",
        "plt.show()"
      ],
      "execution_count": 11,
      "outputs": [
        {
          "output_type": "display_data",
          "data": {
            "image/png": "[encoded data removed]",
            "text/plain": [
              "<Figure size 432x288 with 1 Axes>"
            ]
          },
          "metadata": {
            "tags": []
          }
        },
        {
          "output_type": "display_data",
          "data": {
            "image/png": "[encoded data removed]",
            "text/plain": [
              "<Figure size 432x288 with 1 Axes>"
            ]
          },
          "metadata": {
            "tags": []
          }
        }
      ]
    },
    {
      "cell_type": "code",
      "metadata": {
        "id": "6Vc6PHgxa6Hm",
        "colab_type": "code",
        "colab": {
          "base_uri": "https://localhost:8080/",
          "height": 54
        },
        "outputId": "46c4b22e-1b44-4818-c34d-10a56fe889c6"
      },
      "source": [
        "seed_text = \"The true purpose of deep learning is making memes because\"\n",
        "next_words = 100\n",
        "  \n",
        "for _ in range(next_words):\n",
        "\ttoken_list = tokenizer.texts_to_sequences([seed_text])[0]\n",
        "\ttoken_list = pad_sequences([token_list], maxlen=max_sequence_len-1, padding='pre')\n",
        "\tpredicted = model.predict_classes(token_list, verbose=0)\n",
        "\toutput_word = \"\"\n",
        "\tfor word, index in tokenizer.word_index.items():\n",
        "\t\tif index == predicted:\n",
        "\t\t\toutput_word = word\n",
        "\t\t\tbreak\n",
        "\tseed_text += \" \" + output_word\n",
        "\n",
        "print(seed_text)"
      ],
      "execution_count": 16,
      "outputs": [
        {
          "output_type": "stream",
          "text": [
            "The true purpose of deep learning is making memes because give fullness me all trust it young to blind dear praise and thee is she young such brow level to groan to both other so dumb strife cheeks forth ' write me long bright heart so bright he open wide disdain dead mute can ride feast so cheer blind brow brand brow wrong age remain date thus there on your face may pride men in time words he young ' live so bright truth well grown so bright ' both dyed back again so back open bettering of so worth forth life me bright true pride out me ten spirit\n"
          ],
          "name": "stdout"
        }
      ]
    }
  ]
}