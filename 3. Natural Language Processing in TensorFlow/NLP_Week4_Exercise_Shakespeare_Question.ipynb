{
  "nbformat": 4,
  "nbformat_minor": 0,
  "metadata": {
    "accelerator": "GPU",
    "colab": {
      "name": "NLP_Week4_Exercise_Shakespeare_Question.ipynb",
      "provenance": [],
      "toc_visible": true
    },
    "kernelspec": {
      "display_name": "Python 3",
      "name": "python3"
    }
  },
  "cells": [
    {
      "cell_type": "code",
      "metadata": {
        "id": "zX4Kg8DUTKWO",
        "colab_type": "code",
        "colab": {}
      },
      "source": [
        "#@title Licensed under the Apache License, Version 2.0 (the \"License\");\n",
        "# you may not use this file except in compliance with the License.\n",
        "# You may obtain a copy of the License at\n",
        "#\n",
        "# https://www.apache.org/licenses/LICENSE-2.0\n",
        "#\n",
        "# Unless required by applicable law or agreed to in writing, software\n",
        "# distributed under the License is distributed on an \"AS IS\" BASIS,\n",
        "# WITHOUT WARRANTIES OR CONDITIONS OF ANY KIND, either express or implied.\n",
        "# See the License for the specific language governing permissions and\n",
        "# limitations under the License."
      ],
      "execution_count": null,
      "outputs": []
    },
    {
      "cell_type": "code",
      "metadata": {
        "colab_type": "code",
        "id": "BOwsuGQQY9OL",
        "colab": {}
      },
      "source": [
        "from tensorflow.keras.preprocessing.sequence import pad_sequences\n",
        "from tensorflow.keras.layers import Embedding, LSTM, Dense, Dropout, Bidirectional\n",
        "from tensorflow.keras.preprocessing.text import Tokenizer\n",
        "from tensorflow.keras.models import Sequential\n",
        "from tensorflow.keras.optimizers import Adam\n",
        "### YOUR CODE HERE\n",
        "from tensorflow.keras import regularizers\n",
        "###\n",
        "import tensorflow.keras.utils as ku \n",
        "import numpy as np "
      ],
      "execution_count": 1,
      "outputs": []
    },
    {
      "cell_type": "code",
      "metadata": {
        "colab_type": "code",
        "id": "PRnDnCW-Z7qv",
        "colab": {
          "base_uri": "https://localhost:8080/",
          "height": 202
        },
        "outputId": "12b464f6-77f8-467a-a82e-0b94b8185563"
      },
      "source": [
        "tokenizer = Tokenizer()\n",
        "!wget --no-check-certificate \\\n",
        "    https://storage.googleapis.com/laurencemoroney-blog.appspot.com/sonnets.txt \\\n",
        "    -O /tmp/sonnets.txt\n",
        "data = open('/tmp/sonnets.txt').read()\n",
        "\n",
        "corpus = data.lower().split(\"\\n\")\n",
        "\n",
        "\n",
        "tokenizer.fit_on_texts(corpus)\n",
        "total_words = len(tokenizer.word_index) + 1\n",
        "\n",
        "# create input sequences using list of tokens\n",
        "input_sequences = []\n",
        "for line in corpus:\n",
        "\ttoken_list = tokenizer.texts_to_sequences([line])[0]\n",
        "\tfor i in range(1, len(token_list)):\n",
        "\t\tn_gram_sequence = token_list[:i+1]\n",
        "\t\tinput_sequences.append(n_gram_sequence)\n",
        "\n",
        "\n",
        "# pad sequences \n",
        "max_sequence_len = max([len(x) for x in input_sequences])\n",
        "input_sequences = np.array(pad_sequences(input_sequences, maxlen=max_sequence_len, padding='pre'))\n",
        "\n",
        "# create predictors and label\n",
        "predictors, label = input_sequences[:,:-1],input_sequences[:,-1]\n",
        "\n",
        "label = ku.to_categorical(label, num_classes=total_words)"
      ],
      "execution_count": 2,
      "outputs": [
        {
          "output_type": "stream",
          "text": [
            "--2020-07-21 15:05:35--  https://storage.googleapis.com/laurencemoroney-blog.appspot.com/sonnets.txt\n",
            "Resolving storage.googleapis.com (storage.googleapis.com)... 172.217.212.128, 172.217.214.128, 108.177.111.128, ...\n",
            "Connecting to storage.googleapis.com (storage.googleapis.com)|172.217.212.128|:443... connected.\n",
            "HTTP request sent, awaiting response... 200 OK\n",
            "Length: 93578 (91K) [text/plain]\n",
            "Saving to: ‘/tmp/sonnets.txt’\n",
            "\n",
            "\r/tmp/sonnets.txt      0%[                    ]       0  --.-KB/s               \r/tmp/sonnets.txt    100%[===================>]  91.38K  --.-KB/s    in 0.001s  \n",
            "\n",
            "2020-07-21 15:05:35 (85.7 MB/s) - ‘/tmp/sonnets.txt’ saved [93578/93578]\n",
            "\n"
          ],
          "name": "stdout"
        }
      ]
    },
    {
      "cell_type": "code",
      "metadata": {
        "colab_type": "code",
        "id": "w9vH8Y59ajYL",
        "colab": {
          "base_uri": "https://localhost:8080/",
          "height": 370
        },
        "outputId": "3bb2b1fd-d6d2-4ea9-c93a-15d1450a01ca"
      },
      "source": [
        "model = Sequential()\n",
        "model.add(Embedding(total_words, 100, input_length=max_sequence_len-1))\n",
        "model.add(Bidirectional(LSTM(150, return_sequences = True)))\n",
        "model.add(Dropout(0.2))\n",
        "model.add(LSTM(100))\n",
        "model.add(Dense(total_words/2, activation='relu', kernel_regularizer=regularizers.l2(0.01)))\n",
        "model.add(Dense(total_words, activation='softmax'))\n",
        "# Pick an optimizer\n",
        "model.compile(loss='categorical_crossentropy', optimizer='adam', metrics=['accuracy'])\n",
        "print(model.summary())\n"
      ],
      "execution_count": 4,
      "outputs": [
        {
          "output_type": "stream",
          "text": [
            "Model: \"sequential_1\"\n",
            "_________________________________________________________________\n",
            "Layer (type)                 Output Shape              Param #   \n",
            "=================================================================\n",
            "embedding_1 (Embedding)      (None, 10, 100)           321100    \n",
            "_________________________________________________________________\n",
            "bidirectional_1 (Bidirection (None, 10, 300)           301200    \n",
            "_________________________________________________________________\n",
            "dropout_1 (Dropout)          (None, 10, 300)           0         \n",
            "_________________________________________________________________\n",
            "lstm_3 (LSTM)                (None, 100)               160400    \n",
            "_________________________________________________________________\n",
            "dense (Dense)                (None, 1605)              162105    \n",
            "_________________________________________________________________\n",
            "dense_1 (Dense)              (None, 3211)              5156866   \n",
            "=================================================================\n",
            "Total params: 6,101,671\n",
            "Trainable params: 6,101,671\n",
            "Non-trainable params: 0\n",
            "_________________________________________________________________\n",
            "None\n"
          ],
          "name": "stdout"
        }
      ]
    },
    {
      "cell_type": "code",
      "metadata": {
        "colab_type": "code",
        "id": "AIg2f1HBxqof",
        "colab": {
          "base_uri": "https://localhost:8080/",
          "height": 1000
        },
        "outputId": "e1e13899-0955-490c-8671-b2a8f7b9ae70"
      },
      "source": [
        " history = model.fit(predictors, label, epochs=100, verbose=1)"
      ],
      "execution_count": 5,
      "outputs": [
        {
          "output_type": "stream",
          "text": [
            "Epoch 1/100\n",
            "484/484 [==============================] - 13s 26ms/step - loss: 6.9048 - accuracy: 0.0210\n",
            "Epoch 2/100\n",
            "484/484 [==============================] - 13s 26ms/step - loss: 6.5030 - accuracy: 0.0229\n",
            "Epoch 3/100\n",
            "484/484 [==============================] - 13s 26ms/step - loss: 6.3929 - accuracy: 0.0248\n",
            "Epoch 4/100\n",
            "484/484 [==============================] - 13s 27ms/step - loss: 6.2697 - accuracy: 0.0314\n",
            "Epoch 5/100\n",
            "484/484 [==============================] - 13s 27ms/step - loss: 6.1767 - accuracy: 0.0353\n",
            "Epoch 6/100\n",
            "484/484 [==============================] - 13s 27ms/step - loss: 6.1035 - accuracy: 0.0387\n",
            "Epoch 7/100\n",
            "484/484 [==============================] - 13s 27ms/step - loss: 6.0200 - accuracy: 0.0405\n",
            "Epoch 8/100\n",
            "484/484 [==============================] - 13s 27ms/step - loss: 5.9336 - accuracy: 0.0448\n",
            "Epoch 9/100\n",
            "484/484 [==============================] - 13s 27ms/step - loss: 5.8285 - accuracy: 0.0527\n",
            "Epoch 10/100\n",
            "484/484 [==============================] - 13s 27ms/step - loss: 5.7105 - accuracy: 0.0592\n",
            "Epoch 11/100\n",
            "484/484 [==============================] - 13s 27ms/step - loss: 5.6023 - accuracy: 0.0670\n",
            "Epoch 12/100\n",
            "484/484 [==============================] - 13s 27ms/step - loss: 5.4888 - accuracy: 0.0739\n",
            "Epoch 13/100\n",
            "484/484 [==============================] - 13s 26ms/step - loss: 5.3893 - accuracy: 0.0781\n",
            "Epoch 14/100\n",
            "484/484 [==============================] - 13s 26ms/step - loss: 5.2861 - accuracy: 0.0841\n",
            "Epoch 15/100\n",
            "484/484 [==============================] - 13s 26ms/step - loss: 5.1911 - accuracy: 0.0916\n",
            "Epoch 16/100\n",
            "484/484 [==============================] - 13s 27ms/step - loss: 5.0944 - accuracy: 0.0973\n",
            "Epoch 17/100\n",
            "484/484 [==============================] - 13s 27ms/step - loss: 4.9975 - accuracy: 0.1030\n",
            "Epoch 18/100\n",
            "484/484 [==============================] - 13s 26ms/step - loss: 4.9019 - accuracy: 0.1112\n",
            "Epoch 19/100\n",
            "484/484 [==============================] - 13s 26ms/step - loss: 4.8129 - accuracy: 0.1194\n",
            "Epoch 20/100\n",
            "484/484 [==============================] - 13s 26ms/step - loss: 4.7159 - accuracy: 0.1271\n",
            "Epoch 21/100\n",
            "484/484 [==============================] - 13s 27ms/step - loss: 4.6270 - accuracy: 0.1352\n",
            "Epoch 22/100\n",
            "484/484 [==============================] - 13s 27ms/step - loss: 4.5402 - accuracy: 0.1436\n",
            "Epoch 23/100\n",
            "484/484 [==============================] - 13s 27ms/step - loss: 4.4431 - accuracy: 0.1541\n",
            "Epoch 24/100\n",
            "484/484 [==============================] - 13s 27ms/step - loss: 4.3497 - accuracy: 0.1646\n",
            "Epoch 25/100\n",
            "484/484 [==============================] - 13s 27ms/step - loss: 4.2636 - accuracy: 0.1749\n",
            "Epoch 26/100\n",
            "484/484 [==============================] - 13s 27ms/step - loss: 4.1631 - accuracy: 0.1848\n",
            "Epoch 27/100\n",
            "484/484 [==============================] - 13s 27ms/step - loss: 4.0751 - accuracy: 0.1971\n",
            "Epoch 28/100\n",
            "484/484 [==============================] - 13s 27ms/step - loss: 3.9794 - accuracy: 0.2137\n",
            "Epoch 29/100\n",
            "484/484 [==============================] - 13s 27ms/step - loss: 3.8980 - accuracy: 0.2274\n",
            "Epoch 30/100\n",
            "484/484 [==============================] - 13s 26ms/step - loss: 3.8073 - accuracy: 0.2413\n",
            "Epoch 31/100\n",
            "484/484 [==============================] - 13s 26ms/step - loss: 3.7159 - accuracy: 0.2564\n",
            "Epoch 32/100\n",
            "484/484 [==============================] - 13s 27ms/step - loss: 3.6325 - accuracy: 0.2714\n",
            "Epoch 33/100\n",
            "484/484 [==============================] - 13s 26ms/step - loss: 3.5425 - accuracy: 0.2904\n",
            "Epoch 34/100\n",
            "484/484 [==============================] - 13s 27ms/step - loss: 3.4670 - accuracy: 0.3091\n",
            "Epoch 35/100\n",
            "484/484 [==============================] - 13s 27ms/step - loss: 3.3751 - accuracy: 0.3263\n",
            "Epoch 36/100\n",
            "484/484 [==============================] - 13s 27ms/step - loss: 3.2992 - accuracy: 0.3491\n",
            "Epoch 37/100\n",
            "484/484 [==============================] - 13s 27ms/step - loss: 3.2321 - accuracy: 0.3591\n",
            "Epoch 38/100\n",
            "484/484 [==============================] - 13s 27ms/step - loss: 3.1541 - accuracy: 0.3765\n",
            "Epoch 39/100\n",
            "484/484 [==============================] - 13s 27ms/step - loss: 3.0808 - accuracy: 0.3951\n",
            "Epoch 40/100\n",
            "484/484 [==============================] - 13s 27ms/step - loss: 3.0089 - accuracy: 0.4122\n",
            "Epoch 41/100\n",
            "484/484 [==============================] - 13s 27ms/step - loss: 2.9459 - accuracy: 0.4279\n",
            "Epoch 42/100\n",
            "484/484 [==============================] - 13s 27ms/step - loss: 2.8749 - accuracy: 0.4419\n",
            "Epoch 43/100\n",
            "484/484 [==============================] - 13s 27ms/step - loss: 2.8165 - accuracy: 0.4559\n",
            "Epoch 44/100\n",
            "484/484 [==============================] - 13s 27ms/step - loss: 2.7631 - accuracy: 0.4675\n",
            "Epoch 45/100\n",
            "484/484 [==============================] - 13s 27ms/step - loss: 2.6975 - accuracy: 0.4811\n",
            "Epoch 46/100\n",
            "484/484 [==============================] - 13s 28ms/step - loss: 2.6433 - accuracy: 0.4959\n",
            "Epoch 47/100\n",
            "484/484 [==============================] - 13s 27ms/step - loss: 2.5933 - accuracy: 0.5046\n",
            "Epoch 48/100\n",
            "484/484 [==============================] - 13s 27ms/step - loss: 2.5215 - accuracy: 0.5186\n",
            "Epoch 49/100\n",
            "484/484 [==============================] - 13s 27ms/step - loss: 2.4778 - accuracy: 0.5334\n",
            "Epoch 50/100\n",
            "484/484 [==============================] - 13s 27ms/step - loss: 2.4289 - accuracy: 0.5427\n",
            "Epoch 51/100\n",
            "484/484 [==============================] - 13s 27ms/step - loss: 2.3891 - accuracy: 0.5509\n",
            "Epoch 52/100\n",
            "484/484 [==============================] - 13s 27ms/step - loss: 2.3354 - accuracy: 0.5647\n",
            "Epoch 53/100\n",
            "484/484 [==============================] - 13s 27ms/step - loss: 2.2999 - accuracy: 0.5725\n",
            "Epoch 54/100\n",
            "484/484 [==============================] - 13s 27ms/step - loss: 2.2530 - accuracy: 0.5872\n",
            "Epoch 55/100\n",
            "484/484 [==============================] - 13s 27ms/step - loss: 2.2135 - accuracy: 0.5900\n",
            "Epoch 56/100\n",
            "484/484 [==============================] - 13s 26ms/step - loss: 2.1634 - accuracy: 0.5982\n",
            "Epoch 57/100\n",
            "484/484 [==============================] - 13s 27ms/step - loss: 2.1403 - accuracy: 0.6096\n",
            "Epoch 58/100\n",
            "484/484 [==============================] - 13s 27ms/step - loss: 2.0835 - accuracy: 0.6208\n",
            "Epoch 59/100\n",
            "484/484 [==============================] - 13s 27ms/step - loss: 2.0468 - accuracy: 0.6320\n",
            "Epoch 60/100\n",
            "484/484 [==============================] - 13s 27ms/step - loss: 2.0196 - accuracy: 0.6334\n",
            "Epoch 61/100\n",
            "484/484 [==============================] - 13s 27ms/step - loss: 1.9824 - accuracy: 0.6416\n",
            "Epoch 62/100\n",
            "484/484 [==============================] - 13s 27ms/step - loss: 1.9563 - accuracy: 0.6460\n",
            "Epoch 63/100\n",
            "484/484 [==============================] - 13s 27ms/step - loss: 1.9236 - accuracy: 0.6536\n",
            "Epoch 64/100\n",
            "484/484 [==============================] - 13s 26ms/step - loss: 1.8791 - accuracy: 0.6679\n",
            "Epoch 65/100\n",
            "484/484 [==============================] - 13s 27ms/step - loss: 1.8562 - accuracy: 0.6715\n",
            "Epoch 66/100\n",
            "484/484 [==============================] - 13s 27ms/step - loss: 1.8190 - accuracy: 0.6795\n",
            "Epoch 67/100\n",
            "484/484 [==============================] - 13s 27ms/step - loss: 1.7988 - accuracy: 0.6832\n",
            "Epoch 68/100\n",
            "484/484 [==============================] - 13s 27ms/step - loss: 1.7660 - accuracy: 0.6881\n",
            "Epoch 69/100\n",
            "484/484 [==============================] - 13s 27ms/step - loss: 1.7469 - accuracy: 0.6916\n",
            "Epoch 70/100\n",
            "484/484 [==============================] - 13s 27ms/step - loss: 1.7230 - accuracy: 0.6964\n",
            "Epoch 71/100\n",
            "484/484 [==============================] - 13s 26ms/step - loss: 1.6870 - accuracy: 0.7064\n",
            "Epoch 72/100\n",
            "484/484 [==============================] - 13s 26ms/step - loss: 1.6619 - accuracy: 0.7083\n",
            "Epoch 73/100\n",
            "484/484 [==============================] - 13s 27ms/step - loss: 1.6410 - accuracy: 0.7125\n",
            "Epoch 74/100\n",
            "484/484 [==============================] - 13s 26ms/step - loss: 1.6167 - accuracy: 0.7179\n",
            "Epoch 75/100\n",
            "484/484 [==============================] - 13s 27ms/step - loss: 1.6024 - accuracy: 0.7209\n",
            "Epoch 76/100\n",
            "484/484 [==============================] - 13s 27ms/step - loss: 1.5722 - accuracy: 0.7251\n",
            "Epoch 77/100\n",
            "484/484 [==============================] - 13s 26ms/step - loss: 1.5584 - accuracy: 0.7288\n",
            "Epoch 78/100\n",
            "484/484 [==============================] - 13s 27ms/step - loss: 1.5445 - accuracy: 0.7328\n",
            "Epoch 79/100\n",
            "484/484 [==============================] - 13s 27ms/step - loss: 1.5037 - accuracy: 0.7431\n",
            "Epoch 80/100\n",
            "484/484 [==============================] - 13s 27ms/step - loss: 1.5014 - accuracy: 0.7413\n",
            "Epoch 81/100\n",
            "484/484 [==============================] - 13s 26ms/step - loss: 1.4680 - accuracy: 0.7478\n",
            "Epoch 82/100\n",
            "484/484 [==============================] - 13s 26ms/step - loss: 1.4596 - accuracy: 0.7500\n",
            "Epoch 83/100\n",
            "484/484 [==============================] - 13s 27ms/step - loss: 1.4353 - accuracy: 0.7516\n",
            "Epoch 84/100\n",
            "484/484 [==============================] - 13s 26ms/step - loss: 1.4364 - accuracy: 0.7502\n",
            "Epoch 85/100\n",
            "484/484 [==============================] - 13s 26ms/step - loss: 1.4037 - accuracy: 0.7575\n",
            "Epoch 86/100\n",
            "484/484 [==============================] - 13s 26ms/step - loss: 1.3888 - accuracy: 0.7592\n",
            "Epoch 87/100\n",
            "484/484 [==============================] - 13s 26ms/step - loss: 1.3817 - accuracy: 0.7598\n",
            "Epoch 88/100\n",
            "484/484 [==============================] - 13s 27ms/step - loss: 1.3671 - accuracy: 0.7648\n",
            "Epoch 89/100\n",
            "484/484 [==============================] - 13s 27ms/step - loss: 1.3388 - accuracy: 0.7720\n",
            "Epoch 90/100\n",
            "484/484 [==============================] - 13s 27ms/step - loss: 1.3251 - accuracy: 0.7740\n",
            "Epoch 91/100\n",
            "484/484 [==============================] - 13s 26ms/step - loss: 1.3063 - accuracy: 0.7776\n",
            "Epoch 92/100\n",
            "484/484 [==============================] - 13s 27ms/step - loss: 1.3151 - accuracy: 0.7740\n",
            "Epoch 93/100\n",
            "484/484 [==============================] - 13s 27ms/step - loss: 1.3086 - accuracy: 0.7733\n",
            "Epoch 94/100\n",
            "484/484 [==============================] - 13s 27ms/step - loss: 1.2943 - accuracy: 0.7774\n",
            "Epoch 95/100\n",
            "484/484 [==============================] - 13s 26ms/step - loss: 1.2665 - accuracy: 0.7823\n",
            "Epoch 96/100\n",
            "484/484 [==============================] - 13s 26ms/step - loss: 1.2518 - accuracy: 0.7819\n",
            "Epoch 97/100\n",
            "484/484 [==============================] - 13s 26ms/step - loss: 1.2443 - accuracy: 0.7857\n",
            "Epoch 98/100\n",
            "484/484 [==============================] - 13s 26ms/step - loss: 1.2462 - accuracy: 0.7860\n",
            "Epoch 99/100\n",
            "484/484 [==============================] - 13s 27ms/step - loss: 1.2132 - accuracy: 0.7932\n",
            "Epoch 100/100\n",
            "484/484 [==============================] - 13s 26ms/step - loss: 1.2052 - accuracy: 0.7921\n"
          ],
          "name": "stdout"
        }
      ]
    },
    {
      "cell_type": "code",
      "metadata": {
        "colab_type": "code",
        "id": "1fXTEO3GJ282",
        "colab": {
          "base_uri": "https://localhost:8080/",
          "height": 545
        },
        "outputId": "43f7f88d-759a-469f-a569-0bbe762e0af4"
      },
      "source": [
        "import matplotlib.pyplot as plt\n",
        "acc = history.history['accuracy']\n",
        "loss = history.history['loss']\n",
        "\n",
        "epochs = range(len(acc))\n",
        "\n",
        "plt.plot(epochs, acc, 'b', label='Training accuracy')\n",
        "plt.title('Training accuracy')\n",
        "\n",
        "plt.figure()\n",
        "\n",
        "plt.plot(epochs, loss, 'b', label='Training Loss')\n",
        "plt.title('Training loss')\n",
        "plt.legend()\n",
        "\n",
        "plt.show()"
      ],
      "execution_count": 6,
      "outputs": [
        {
          "output_type": "display_data",
          "data": {
            "image/png": "[encoded data removed]",
            "text/plain": [
              "<Figure size 432x288 with 1 Axes>"
            ]
          },
          "metadata": {
            "tags": [],
            "needs_background": "light"
          }
        },
        {
          "output_type": "display_data",
          "data": {
            "image/png": "[encoded data removed]",
            "text/plain": [
              "<Figure size 432x288 with 1 Axes>"
            ]
          },
          "metadata": {
            "tags": [],
            "needs_background": "light"
          }
        }
      ]
    },
    {
      "cell_type": "code",
      "metadata": {
        "colab_type": "code",
        "id": "6Vc6PHgxa6Hm",
        "colab": {
          "base_uri": "https://localhost:8080/",
          "height": 104
        },
        "outputId": "9f45a48b-116a-49c4-a01b-c24ac4d4d7b7"
      },
      "source": [
        "seed_text = \"Help me Obi Wan Kenobi, you're my only hope\"\n",
        "next_words = 100\n",
        "  \n",
        "for _ in range(next_words):\n",
        "\ttoken_list = tokenizer.texts_to_sequences([seed_text])[0]\n",
        "\ttoken_list = pad_sequences([token_list], maxlen=max_sequence_len-1, padding='pre')\n",
        "\tpredicted = model.predict_classes(token_list, verbose=0)\n",
        "\toutput_word = \"\"\n",
        "\tfor word, index in tokenizer.word_index.items():\n",
        "\t\tif index == predicted:\n",
        "\t\t\toutput_word = word\n",
        "\t\t\tbreak\n",
        "\tseed_text += \" \" + output_word\n",
        "print(seed_text)"
      ],
      "execution_count": 7,
      "outputs": [
        {
          "output_type": "stream",
          "text": [
            "WARNING:tensorflow:From <ipython-input-7-622d307fa19a>:7: Sequential.predict_classes (from tensorflow.python.keras.engine.sequential) is deprecated and will be removed after 2021-01-01.\n",
            "Instructions for updating:\n",
            "Please use instead:* `np.argmax(model.predict(x), axis=-1)`,   if your model does multi-class classification   (e.g. if it uses a `softmax` last-layer activation).* `(model.predict(x) > 0.5).astype(\"int32\")`,   if your model does binary classification   (e.g. if it uses a `sigmoid` last-layer activation).\n",
            "Help me Obi Wan Kenobi, you're my only hope whose summer can keep them so stars still thy will ' forbid every glory live glory most told live flowers live flowers shall mend the fiery bearing held clearer give height arising junes burn lie shines so short and kings date least still another youth ill dead worth still one doth approve be ill still new good end ride appear dead lend outworn bear thee wastes wind wind wastes deeds ' alone alone and you from such age prove away away hence told or life brings forth now theirs so short and dust shall cover life another woe wrong young\n"
          ],
          "name": "stdout"
        }
      ]
    }
  ]
}