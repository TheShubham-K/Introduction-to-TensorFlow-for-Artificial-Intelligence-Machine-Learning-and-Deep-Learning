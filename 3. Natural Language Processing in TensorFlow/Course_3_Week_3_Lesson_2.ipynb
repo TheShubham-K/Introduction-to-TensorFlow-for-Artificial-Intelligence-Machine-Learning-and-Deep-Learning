{
  "nbformat": 4,
  "nbformat_minor": 0,
  "metadata": {
    "accelerator": "GPU",
    "colab": {
      "name": "Course 3 - Week 3 - Lesson 2.ipynb",
      "provenance": [],
      "collapsed_sections": [],
      "toc_visible": true
    },
    "kernelspec": {
      "display_name": "Python 3",
      "language": "python",
      "name": "python3"
    },
    "language_info": {
      "codemirror_mode": {
        "name": "ipython",
        "version": 3
      },
      "file_extension": ".py",
      "mimetype": "text/x-python",
      "name": "python",
      "nbconvert_exporter": "python",
      "pygments_lexer": "ipython3",
      "version": "3.7.6"
    }
  },
  "cells": [
    {
      "cell_type": "code",
      "metadata": {
        "colab_type": "code",
        "id": "zX4Kg8DUTKWO",
        "colab": {}
      },
      "source": [
        "#@title Licensed under the Apache License, Version 2.0 (the \"License\");\n",
        "# you may not use this file except in compliance with the License.\n",
        "# You may obtain a copy of the License at\n",
        "#\n",
        "# https://www.apache.org/licenses/LICENSE-2.0\n",
        "#\n",
        "# Unless required by applicable law or agreed to in writing, software\n",
        "# distributed under the License is distributed on an \"AS IS\" BASIS,\n",
        "# WITHOUT WARRANTIES OR CONDITIONS OF ANY KIND, either express or implied.\n",
        "# See the License for the specific language governing permissions and\n",
        "# limitations under the License."
      ],
      "execution_count": null,
      "outputs": []
    },
    {
      "cell_type": "markdown",
      "metadata": {
        "id": "lE6QeExEY5xp",
        "colab_type": "text"
      },
      "source": [
        "<a href=\"https://colab.research.google.com/github/lmoroney/dlaicourse/blob/master/TensorFlow%20In%20Practice/Course%203%20-%20NLP/Course%203%20-%20Week%203%20-%20Lesson%202.ipynb\" target=\"_parent\"><img src=\"https://colab.research.google.com/assets/colab-badge.svg\" alt=\"Open In Colab\"/></a>"
      ]
    },
    {
      "cell_type": "code",
      "metadata": {
        "colab_type": "code",
        "id": "jGwXGIXvFhXW",
        "colab": {
          "base_uri": "https://localhost:8080/",
          "height": 1000
        },
        "outputId": "2652a366-ae43-461d-b1ee-f0b72c691e7b"
      },
      "source": [
        "import numpy as np\n",
        "\n",
        "import json\n",
        "import tensorflow as tf\n",
        "\n",
        "from tensorflow.keras.preprocessing.text import Tokenizer\n",
        "from tensorflow.keras.preprocessing.sequence import pad_sequences\n",
        "\n",
        "!wget --no-check-certificate \\\n",
        "    https://storage.googleapis.com/laurencemoroney-blog.appspot.com/sarcasm.json \\\n",
        "    -O /tmp/sarcasm.json\n",
        "\n",
        "vocab_size = 1000\n",
        "embedding_dim = 16\n",
        "max_length = 120\n",
        "trunc_type='post'\n",
        "padding_type='post'\n",
        "oov_tok = \"<OOV>\"\n",
        "training_size = 20000\n",
        "\n",
        "\n",
        "with open(\"/tmp/sarcasm.json\", 'r') as f:\n",
        "    datastore = json.load(f)\n",
        "\n",
        "\n",
        "sentences = []\n",
        "labels = []\n",
        "urls = []\n",
        "for item in datastore:\n",
        "    sentences.append(item['headline'])\n",
        "    labels.append(item['is_sarcastic'])\n",
        "\n",
        "training_sentences = sentences[0:training_size]\n",
        "testing_sentences = sentences[training_size:]\n",
        "training_labels = labels[0:training_size]\n",
        "testing_labels = labels[training_size:]\n",
        "\n",
        "tokenizer = Tokenizer(num_words=vocab_size, oov_token=oov_tok)\n",
        "tokenizer.fit_on_texts(training_sentences)\n",
        "\n",
        "word_index = tokenizer.word_index\n",
        "\n",
        "training_sequences = tokenizer.texts_to_sequences(training_sentences)\n",
        "training_padded = pad_sequences(training_sequences, maxlen=max_length, padding=padding_type, truncating=trunc_type)\n",
        "\n",
        "testing_sequences = tokenizer.texts_to_sequences(testing_sentences)\n",
        "testing_padded = pad_sequences(testing_sequences, maxlen=max_length, padding=padding_type, truncating=trunc_type)\n",
        "\n",
        "model = tf.keras.Sequential([\n",
        "    tf.keras.layers.Embedding(vocab_size, embedding_dim, input_length=max_length),\n",
        "    tf.keras.layers.Bidirectional(tf.keras.layers.LSTM(32)),\n",
        "    tf.keras.layers.Dense(24, activation='relu'),\n",
        "    tf.keras.layers.Dense(1, activation='sigmoid')\n",
        "])\n",
        "model.compile(loss='binary_crossentropy',optimizer='adam',metrics=['accuracy'])\n",
        "model.summary()\n",
        "\n",
        "num_epochs = 50\n",
        "training_padded = np.array(training_padded)\n",
        "training_labels = np.array(training_labels)\n",
        "testing_padded = np.array(testing_padded)\n",
        "testing_labels = np.array(testing_labels)\n",
        "history = model.fit(training_padded, training_labels, epochs=num_epochs, validation_data=(testing_padded, testing_labels), verbose=1)\n"
      ],
      "execution_count": 1,
      "outputs": [
        {
          "output_type": "stream",
          "text": [
            "--2020-07-21 13:02:22--  https://storage.googleapis.com/laurencemoroney-blog.appspot.com/sarcasm.json\n",
            "Resolving storage.googleapis.com (storage.googleapis.com)... 173.194.69.128, 173.194.79.128, 108.177.126.128, ...\n",
            "Connecting to storage.googleapis.com (storage.googleapis.com)|173.194.69.128|:443... connected.\n",
            "HTTP request sent, awaiting response... 200 OK\n",
            "Length: 5643545 (5.4M) [application/json]\n",
            "Saving to: ‘/tmp/sarcasm.json’\n",
            "\n",
            "\r/tmp/sarcasm.json     0%[                    ]       0  --.-KB/s               \r/tmp/sarcasm.json   100%[===================>]   5.38M  --.-KB/s    in 0.05s   \n",
            "\n",
            "2020-07-21 13:02:22 (106 MB/s) - ‘/tmp/sarcasm.json’ saved [5643545/5643545]\n",
            "\n",
            "Model: \"sequential\"\n",
            "_________________________________________________________________\n",
            "Layer (type)                 Output Shape              Param #   \n",
            "=================================================================\n",
            "embedding (Embedding)        (None, 120, 16)           16000     \n",
            "_________________________________________________________________\n",
            "bidirectional (Bidirectional (None, 64)                12544     \n",
            "_________________________________________________________________\n",
            "dense (Dense)                (None, 24)                1560      \n",
            "_________________________________________________________________\n",
            "dense_1 (Dense)              (None, 1)                 25        \n",
            "=================================================================\n",
            "Total params: 30,129\n",
            "Trainable params: 30,129\n",
            "Non-trainable params: 0\n",
            "_________________________________________________________________\n",
            "Epoch 1/50\n",
            "625/625 [==============================] - 9s 14ms/step - loss: 0.4594 - accuracy: 0.7674 - val_loss: 0.3911 - val_accuracy: 0.8153\n",
            "Epoch 2/50\n",
            "625/625 [==============================] - 8s 13ms/step - loss: 0.3536 - accuracy: 0.8397 - val_loss: 0.3718 - val_accuracy: 0.8296\n",
            "Epoch 3/50\n",
            "625/625 [==============================] - 8s 13ms/step - loss: 0.3269 - accuracy: 0.8541 - val_loss: 0.3742 - val_accuracy: 0.8272\n",
            "Epoch 4/50\n",
            "625/625 [==============================] - 8s 13ms/step - loss: 0.3110 - accuracy: 0.8620 - val_loss: 0.3697 - val_accuracy: 0.8331\n",
            "Epoch 5/50\n",
            "625/625 [==============================] - 8s 13ms/step - loss: 0.2987 - accuracy: 0.8674 - val_loss: 0.3767 - val_accuracy: 0.8320\n",
            "Epoch 6/50\n",
            "625/625 [==============================] - 8s 13ms/step - loss: 0.2893 - accuracy: 0.8723 - val_loss: 0.3885 - val_accuracy: 0.8237\n",
            "Epoch 7/50\n",
            "625/625 [==============================] - 8s 13ms/step - loss: 0.2805 - accuracy: 0.8780 - val_loss: 0.3952 - val_accuracy: 0.8280\n",
            "Epoch 8/50\n",
            "625/625 [==============================] - 8s 13ms/step - loss: 0.2736 - accuracy: 0.8817 - val_loss: 0.3909 - val_accuracy: 0.8284\n",
            "Epoch 9/50\n",
            "625/625 [==============================] - 8s 13ms/step - loss: 0.2645 - accuracy: 0.8873 - val_loss: 0.3989 - val_accuracy: 0.8296\n",
            "Epoch 10/50\n",
            "625/625 [==============================] - 8s 13ms/step - loss: 0.2579 - accuracy: 0.8909 - val_loss: 0.4141 - val_accuracy: 0.8278\n",
            "Epoch 11/50\n",
            "625/625 [==============================] - 8s 13ms/step - loss: 0.2503 - accuracy: 0.8921 - val_loss: 0.4156 - val_accuracy: 0.8265\n",
            "Epoch 12/50\n",
            "625/625 [==============================] - 8s 13ms/step - loss: 0.2435 - accuracy: 0.8987 - val_loss: 0.4169 - val_accuracy: 0.8253\n",
            "Epoch 13/50\n",
            "625/625 [==============================] - 8s 13ms/step - loss: 0.2359 - accuracy: 0.9003 - val_loss: 0.4263 - val_accuracy: 0.8258\n",
            "Epoch 14/50\n",
            "625/625 [==============================] - 8s 13ms/step - loss: 0.2300 - accuracy: 0.9056 - val_loss: 0.4538 - val_accuracy: 0.8205\n",
            "Epoch 15/50\n",
            "625/625 [==============================] - 8s 13ms/step - loss: 0.2232 - accuracy: 0.9074 - val_loss: 0.4453 - val_accuracy: 0.8229\n",
            "Epoch 16/50\n",
            "625/625 [==============================] - 8s 13ms/step - loss: 0.2172 - accuracy: 0.9082 - val_loss: 0.4803 - val_accuracy: 0.8199\n",
            "Epoch 17/50\n",
            "625/625 [==============================] - 8s 13ms/step - loss: 0.2127 - accuracy: 0.9113 - val_loss: 0.4716 - val_accuracy: 0.8226\n",
            "Epoch 18/50\n",
            "625/625 [==============================] - 8s 13ms/step - loss: 0.2032 - accuracy: 0.9158 - val_loss: 0.5174 - val_accuracy: 0.8177\n",
            "Epoch 19/50\n",
            "625/625 [==============================] - 8s 13ms/step - loss: 0.2003 - accuracy: 0.9169 - val_loss: 0.5345 - val_accuracy: 0.8128\n",
            "Epoch 20/50\n",
            "625/625 [==============================] - 8s 13ms/step - loss: 0.1903 - accuracy: 0.9205 - val_loss: 0.5718 - val_accuracy: 0.8137\n",
            "Epoch 21/50\n",
            "625/625 [==============================] - 8s 13ms/step - loss: 0.1829 - accuracy: 0.9245 - val_loss: 0.5594 - val_accuracy: 0.8152\n",
            "Epoch 22/50\n",
            "625/625 [==============================] - 8s 13ms/step - loss: 0.1777 - accuracy: 0.9274 - val_loss: 0.6544 - val_accuracy: 0.8086\n",
            "Epoch 23/50\n",
            "625/625 [==============================] - 8s 13ms/step - loss: 0.1686 - accuracy: 0.9306 - val_loss: 0.6492 - val_accuracy: 0.8135\n",
            "Epoch 24/50\n",
            "625/625 [==============================] - 8s 13ms/step - loss: 0.1624 - accuracy: 0.9345 - val_loss: 0.7196 - val_accuracy: 0.8101\n",
            "Epoch 25/50\n",
            "625/625 [==============================] - 8s 13ms/step - loss: 0.1591 - accuracy: 0.9360 - val_loss: 0.6972 - val_accuracy: 0.8097\n",
            "Epoch 26/50\n",
            "625/625 [==============================] - 8s 13ms/step - loss: 0.1531 - accuracy: 0.9367 - val_loss: 0.7532 - val_accuracy: 0.8059\n",
            "Epoch 27/50\n",
            "625/625 [==============================] - 8s 13ms/step - loss: 0.1427 - accuracy: 0.9414 - val_loss: 0.8509 - val_accuracy: 0.8035\n",
            "Epoch 28/50\n",
            "625/625 [==============================] - 8s 13ms/step - loss: 0.1398 - accuracy: 0.9423 - val_loss: 0.8381 - val_accuracy: 0.8015\n",
            "Epoch 29/50\n",
            "625/625 [==============================] - 8s 13ms/step - loss: 0.1317 - accuracy: 0.9460 - val_loss: 0.9076 - val_accuracy: 0.8044\n",
            "Epoch 30/50\n",
            "625/625 [==============================] - 8s 13ms/step - loss: 0.1254 - accuracy: 0.9467 - val_loss: 0.9344 - val_accuracy: 0.8027\n",
            "Epoch 31/50\n",
            "625/625 [==============================] - 8s 13ms/step - loss: 0.1219 - accuracy: 0.9496 - val_loss: 1.0169 - val_accuracy: 0.8010\n",
            "Epoch 32/50\n",
            "625/625 [==============================] - 8s 13ms/step - loss: 0.1146 - accuracy: 0.9508 - val_loss: 1.1183 - val_accuracy: 0.7988\n",
            "Epoch 33/50\n",
            "625/625 [==============================] - 8s 13ms/step - loss: 0.1181 - accuracy: 0.9513 - val_loss: 1.0438 - val_accuracy: 0.7994\n",
            "Epoch 34/50\n",
            "625/625 [==============================] - 8s 13ms/step - loss: 0.1128 - accuracy: 0.9528 - val_loss: 1.0960 - val_accuracy: 0.8010\n",
            "Epoch 35/50\n",
            "625/625 [==============================] - 8s 13ms/step - loss: 0.1010 - accuracy: 0.9561 - val_loss: 1.1978 - val_accuracy: 0.7994\n",
            "Epoch 36/50\n",
            "625/625 [==============================] - 8s 13ms/step - loss: 0.0971 - accuracy: 0.9579 - val_loss: 1.2572 - val_accuracy: 0.7979\n",
            "Epoch 37/50\n",
            "625/625 [==============================] - 8s 13ms/step - loss: 0.1038 - accuracy: 0.9557 - val_loss: 1.2073 - val_accuracy: 0.7997\n",
            "Epoch 38/50\n",
            "625/625 [==============================] - 8s 13ms/step - loss: 0.0922 - accuracy: 0.9603 - val_loss: 1.3067 - val_accuracy: 0.7991\n",
            "Epoch 39/50\n",
            "625/625 [==============================] - 8s 13ms/step - loss: 0.0892 - accuracy: 0.9619 - val_loss: 1.4621 - val_accuracy: 0.7974\n",
            "Epoch 40/50\n",
            "625/625 [==============================] - 8s 13ms/step - loss: 0.0888 - accuracy: 0.9618 - val_loss: 1.4251 - val_accuracy: 0.7946\n",
            "Epoch 41/50\n",
            "625/625 [==============================] - 8s 13ms/step - loss: 0.0858 - accuracy: 0.9618 - val_loss: 1.4806 - val_accuracy: 0.7980\n",
            "Epoch 42/50\n",
            "625/625 [==============================] - 8s 13ms/step - loss: 0.0861 - accuracy: 0.9616 - val_loss: 1.5328 - val_accuracy: 0.7955\n",
            "Epoch 43/50\n",
            "625/625 [==============================] - 8s 13ms/step - loss: 0.0851 - accuracy: 0.9621 - val_loss: 1.5239 - val_accuracy: 0.7913\n",
            "Epoch 44/50\n",
            "625/625 [==============================] - 8s 13ms/step - loss: 0.0772 - accuracy: 0.9650 - val_loss: 1.4372 - val_accuracy: 0.7998\n",
            "Epoch 45/50\n",
            "625/625 [==============================] - 8s 13ms/step - loss: 0.0740 - accuracy: 0.9672 - val_loss: 1.6466 - val_accuracy: 0.7925\n",
            "Epoch 46/50\n",
            "625/625 [==============================] - 8s 13ms/step - loss: 0.0688 - accuracy: 0.9689 - val_loss: 1.7482 - val_accuracy: 0.7956\n",
            "Epoch 47/50\n",
            "625/625 [==============================] - 8s 13ms/step - loss: 0.0789 - accuracy: 0.9660 - val_loss: 1.5388 - val_accuracy: 0.7983\n",
            "Epoch 48/50\n",
            "625/625 [==============================] - 8s 13ms/step - loss: 0.0675 - accuracy: 0.9686 - val_loss: 1.7820 - val_accuracy: 0.7931\n",
            "Epoch 49/50\n",
            "625/625 [==============================] - 8s 13ms/step - loss: 0.0612 - accuracy: 0.9706 - val_loss: 2.0130 - val_accuracy: 0.7940\n",
            "Epoch 50/50\n",
            "625/625 [==============================] - 9s 14ms/step - loss: 0.0732 - accuracy: 0.9670 - val_loss: 1.7910 - val_accuracy: 0.7940\n"
          ],
          "name": "stdout"
        }
      ]
    },
    {
      "cell_type": "code",
      "metadata": {
        "colab_type": "code",
        "id": "g9DC6dmLF8DC",
        "colab": {
          "base_uri": "https://localhost:8080/",
          "height": 541
        },
        "outputId": "5a90dba7-a466-4b06-9379-16290012176d"
      },
      "source": [
        "import matplotlib.pyplot as plt\n",
        "\n",
        "\n",
        "def plot_graphs(history, string):\n",
        "  plt.plot(history.history[string])\n",
        "  plt.plot(history.history['val_'+string])\n",
        "  plt.xlabel(\"Epochs\")\n",
        "  plt.ylabel(string)\n",
        "  plt.legend([string, 'val_'+string])\n",
        "  plt.show()\n",
        "\n",
        "plot_graphs(history, 'accuracy')\n",
        "plot_graphs(history, 'loss')"
      ],
      "execution_count": 2,
      "outputs": [
        {
          "output_type": "display_data",
          "data": {
            "image/png": "[encoded data removed]",
            "text/plain": [
              "<Figure size 432x288 with 1 Axes>"
            ]
          },
          "metadata": {
            "tags": [],
            "needs_background": "light"
          }
        },
        {
          "output_type": "display_data",
          "data": {
            "image/png": "[encoded data removed]",
            "text/plain": [
              "<Figure size 432x288 with 1 Axes>"
            ]
          },
          "metadata": {
            "tags": [],
            "needs_background": "light"
          }
        }
      ]
    },
    {
      "cell_type": "code",
      "metadata": {
        "colab_type": "code",
        "id": "7ZEZIUppGhdi",
        "colab": {}
      },
      "source": [
        "model.save(\"test.h5\")"
      ],
      "execution_count": 4,
      "outputs": []
    }
  ]
}