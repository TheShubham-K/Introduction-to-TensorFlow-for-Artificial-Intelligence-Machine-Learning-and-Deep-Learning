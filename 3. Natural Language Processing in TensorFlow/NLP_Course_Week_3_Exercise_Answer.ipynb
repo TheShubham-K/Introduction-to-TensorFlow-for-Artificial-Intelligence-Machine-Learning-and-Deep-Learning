{
  "nbformat": 4,
  "nbformat_minor": 0,
  "metadata": {
    "accelerator": "GPU",
    "colab": {
      "name": "NLP Course - Week 3 Exercise Answer.ipynb",
      "provenance": [],
      "toc_visible": true
    },
    "kernelspec": {
      "display_name": "Python 3",
      "language": "python",
      "name": "python3"
    },
    "language_info": {
      "codemirror_mode": {
        "name": "ipython",
        "version": 3
      },
      "file_extension": ".py",
      "mimetype": "text/x-python",
      "name": "python",
      "nbconvert_exporter": "python",
      "pygments_lexer": "ipython3",
      "version": "3.7.6"
    }
  },
  "cells": [
    {
      "cell_type": "code",
      "metadata": {
        "colab_type": "code",
        "id": "zX4Kg8DUTKWO",
        "colab": {}
      },
      "source": [
        "#@title Licensed under the Apache License, Version 2.0 (the \"License\");\n",
        "# you may not use this file except in compliance with the License.\n",
        "# You may obtain a copy of the License at\n",
        "#\n",
        "# https://www.apache.org/licenses/LICENSE-2.0\n",
        "#\n",
        "# Unless required by applicable law or agreed to in writing, software\n",
        "# distributed under the License is distributed on an \"AS IS\" BASIS,\n",
        "# WITHOUT WARRANTIES OR CONDITIONS OF ANY KIND, either express or implied.\n",
        "# See the License for the specific language governing permissions and\n",
        "# limitations under the License."
      ],
      "execution_count": null,
      "outputs": []
    },
    {
      "cell_type": "markdown",
      "metadata": {
        "id": "BC8d8mLNuISb",
        "colab_type": "text"
      },
      "source": [
        "<a href=\"https://colab.research.google.com/github/lmoroney/dlaicourse/blob/master/TensorFlow%20In%20Practice/Course%203%20-%20NLP/NLP%20Course%20-%20Week%203%20Exercise%20Answer.ipynb\" target=\"_parent\"><img src=\"https://colab.research.google.com/assets/colab-badge.svg\" alt=\"Open In Colab\"/></a>"
      ]
    },
    {
      "cell_type": "code",
      "metadata": {
        "colab_type": "code",
        "id": "hmA6EzkQJ5jt",
        "colab": {}
      },
      "source": [
        "import json\n",
        "import tensorflow as tf\n",
        "import csv\n",
        "import random\n",
        "import numpy as np\n",
        "\n",
        "from tensorflow.keras.preprocessing.text import Tokenizer\n",
        "from tensorflow.keras.preprocessing.sequence import pad_sequences\n",
        "from tensorflow.keras.utils import to_categorical\n",
        "from tensorflow.keras import regularizers\n",
        "\n",
        "\n",
        "embedding_dim = 100\n",
        "max_length = 16\n",
        "trunc_type='post'\n",
        "padding_type='post'\n",
        "oov_tok = \"<OOV>\"\n",
        "training_size=160000\n",
        "test_portion=.1\n",
        "\n",
        "corpus = []\n"
      ],
      "execution_count": 2,
      "outputs": []
    },
    {
      "cell_type": "code",
      "metadata": {
        "colab_type": "code",
        "id": "bM0l_dORKqE0",
        "colab": {
          "base_uri": "https://localhost:8080/",
          "height": 202
        },
        "outputId": "40b1c4fb-b4a7-43fa-c1f6-fd022f07901a"
      },
      "source": [
        "# Note that I cleaned the Stanford dataset to remove LATIN1 encoding to make it easier for Python CSV reader\n",
        "# You can do that yourself with:\n",
        "# iconv -f LATIN1 -t UTF8 training.1600000.processed.noemoticon.csv -o training_cleaned.csv\n",
        "# I then hosted it on my site to make it easier to use in this notebook\n",
        "\n",
        "!wget --no-check-certificate \\\n",
        "    https://storage.googleapis.com/laurencemoroney-blog.appspot.com/training_cleaned.csv \\\n",
        "    -O /tmp/training_cleaned.csv\n",
        "\n",
        "num_sentences = 0\n",
        "\n",
        "with open(\"/tmp/training_cleaned.csv\") as csvfile:\n",
        "    reader = csv.reader(csvfile, delimiter=',')\n",
        "    for row in reader:\n",
        "        list_item=[]\n",
        "        list_item.append(row[5])\n",
        "        this_label=row[0]\n",
        "        if this_label=='0':\n",
        "            list_item.append(0)\n",
        "        else:\n",
        "            list_item.append(1)\n",
        "        num_sentences = num_sentences + 1\n",
        "        corpus.append(list_item)\n"
      ],
      "execution_count": 3,
      "outputs": [
        {
          "output_type": "stream",
          "text": [
            "--2020-07-21 14:14:04--  https://storage.googleapis.com/laurencemoroney-blog.appspot.com/training_cleaned.csv\n",
            "Resolving storage.googleapis.com (storage.googleapis.com)... 74.125.143.128, 173.194.69.128, 173.194.79.128, ...\n",
            "Connecting to storage.googleapis.com (storage.googleapis.com)|74.125.143.128|:443... connected.\n",
            "HTTP request sent, awaiting response... 200 OK\n",
            "Length: 238942690 (228M) [application/octet-stream]\n",
            "Saving to: ‘/tmp/training_cleaned.csv’\n",
            "\n",
            "\r          /tmp/trai   0%[                    ]       0  --.-KB/s               \r         /tmp/train  28%[====>               ]  64.52M   323MB/s               \r        /tmp/traini  58%[==========>         ] 134.41M   336MB/s               \r       /tmp/trainin  85%[================>   ] 194.70M   324MB/s               \r/tmp/training_clean 100%[===================>] 227.87M   326MB/s    in 0.7s    \n",
            "\n",
            "2020-07-21 14:14:05 (326 MB/s) - ‘/tmp/training_cleaned.csv’ saved [238942690/238942690]\n",
            "\n"
          ],
          "name": "stdout"
        }
      ]
    },
    {
      "cell_type": "code",
      "metadata": {
        "colab_type": "code",
        "id": "3kxblBUjEUX-",
        "colab": {
          "base_uri": "https://localhost:8080/",
          "height": 67
        },
        "outputId": "2e137d77-0c51-4a8d-9904-ee494c565f31"
      },
      "source": [
        "print(num_sentences)\n",
        "print(len(corpus))\n",
        "print(corpus[1])\n",
        "\n",
        "# Expected Output:\n",
        "# 1600000\n",
        "# 1600000\n",
        "# [\"is upset that he can't update his Facebook by texting it... and might cry as a result  School today also. Blah!\", 0]"
      ],
      "execution_count": 4,
      "outputs": [
        {
          "output_type": "stream",
          "text": [
            "1600000\n",
            "1600000\n",
            "[\"is upset that he can't update his Facebook by texting it... and might cry as a result  School today also. Blah!\", 0]\n"
          ],
          "name": "stdout"
        }
      ]
    },
    {
      "cell_type": "code",
      "metadata": {
        "colab_type": "code",
        "id": "ohOGz24lsNAD",
        "colab": {}
      },
      "source": [
        "sentences=[]\n",
        "labels=[]\n",
        "random.shuffle(corpus)\n",
        "for x in range(training_size):\n",
        "    sentences.append(corpus[x][0])\n",
        "    labels.append(corpus[x][1])\n",
        "\n",
        "\n",
        "tokenizer = Tokenizer()\n",
        "tokenizer.fit_on_texts(sentences)\n",
        "\n",
        "word_index = tokenizer.word_index\n",
        "vocab_size=len(word_index)\n",
        "\n",
        "sequences = tokenizer.texts_to_sequences(sentences)\n",
        "padded = pad_sequences(sequences, maxlen=max_length, padding=padding_type, truncating=trunc_type)\n",
        "\n",
        "split = int(test_portion * training_size)\n",
        "\n",
        "test_sequences = padded[0:split]\n",
        "training_sequences = padded[split:training_size]\n",
        "test_labels = labels[0:split]\n",
        "training_labels = labels[split:training_size]"
      ],
      "execution_count": 5,
      "outputs": []
    },
    {
      "cell_type": "code",
      "metadata": {
        "colab_type": "code",
        "id": "gIrtRem1En3N",
        "colab": {
          "base_uri": "https://localhost:8080/",
          "height": 50
        },
        "outputId": "7a76c294-c473-41f5-ad06-42ad4168b55c"
      },
      "source": [
        "print(vocab_size)\n",
        "print(word_index['i'])\n",
        "# Expected Output\n",
        "# 138858\n",
        "# 1"
      ],
      "execution_count": 6,
      "outputs": [
        {
          "output_type": "stream",
          "text": [
            "138148\n",
            "1\n"
          ],
          "name": "stdout"
        }
      ]
    },
    {
      "cell_type": "code",
      "metadata": {
        "colab_type": "code",
        "id": "C1zdgJkusRh0",
        "colab": {
          "base_uri": "https://localhost:8080/",
          "height": 202
        },
        "outputId": "0702e48e-5114-45c7-b948-c8c2787c291b"
      },
      "source": [
        "# Note this is the 100 dimension version of GloVe from Stanford\n",
        "# I unzipped and hosted it on my site to make this notebook easier\n",
        "!wget --no-check-certificate \\\n",
        "    https://storage.googleapis.com/laurencemoroney-blog.appspot.com/glove.6B.100d.txt \\\n",
        "    -O /tmp/glove.6B.100d.txt\n",
        "embeddings_index = {};\n",
        "with open('/tmp/glove.6B.100d.txt') as f:\n",
        "    for line in f:\n",
        "        values = line.split();\n",
        "        word = values[0];\n",
        "        coefs = np.asarray(values[1:], dtype='float32');\n",
        "        embeddings_index[word] = coefs;\n",
        "\n",
        "embeddings_matrix = np.zeros((vocab_size+1, embedding_dim));\n",
        "for word, i in word_index.items():\n",
        "    embedding_vector = embeddings_index.get(word);\n",
        "    if embedding_vector is not None:\n",
        "        embeddings_matrix[i] = embedding_vector;"
      ],
      "execution_count": 7,
      "outputs": [
        {
          "output_type": "stream",
          "text": [
            "--2020-07-21 14:14:24--  https://storage.googleapis.com/laurencemoroney-blog.appspot.com/glove.6B.100d.txt\n",
            "Resolving storage.googleapis.com (storage.googleapis.com)... 74.125.128.128, 108.177.119.128, 108.177.126.128, ...\n",
            "Connecting to storage.googleapis.com (storage.googleapis.com)|74.125.128.128|:443... connected.\n",
            "HTTP request sent, awaiting response... 200 OK\n",
            "Length: 347116733 (331M) [text/plain]\n",
            "Saving to: ‘/tmp/glove.6B.100d.txt’\n",
            "\n",
            "/tmp/glove.6B.100d. 100%[===================>] 331.04M  69.0MB/s    in 4.8s    \n",
            "\n",
            "2020-07-21 14:14:29 (69.0 MB/s) - ‘/tmp/glove.6B.100d.txt’ saved [347116733/347116733]\n",
            "\n"
          ],
          "name": "stdout"
        }
      ]
    },
    {
      "cell_type": "code",
      "metadata": {
        "colab_type": "code",
        "id": "71NLk_lpFLNt",
        "colab": {
          "base_uri": "https://localhost:8080/",
          "height": 34
        },
        "outputId": "2c283087-3fa1-4369-9bea-c21db2c96b89"
      },
      "source": [
        "print(len(embeddings_matrix))\n",
        "# Expected Output\n",
        "# 138859"
      ],
      "execution_count": 8,
      "outputs": [
        {
          "output_type": "stream",
          "text": [
            "138149\n"
          ],
          "name": "stdout"
        }
      ]
    },
    {
      "cell_type": "code",
      "metadata": {
        "colab_type": "code",
        "id": "iKKvbuEBOGFz",
        "colab": {
          "base_uri": "https://localhost:8080/",
          "height": 1000
        },
        "outputId": "6e301287-4df3-4d28-d332-d4b2fe0ed2be"
      },
      "source": [
        "model = tf.keras.Sequential([\n",
        "    tf.keras.layers.Embedding(vocab_size+1, embedding_dim, input_length=max_length, weights=[embeddings_matrix], trainable=False),\n",
        "    tf.keras.layers.Dropout(0.2),\n",
        "    tf.keras.layers.Conv1D(64, 5, activation='relu'),\n",
        "    tf.keras.layers.MaxPooling1D(pool_size=4),\n",
        "    tf.keras.layers.LSTM(64),\n",
        "    tf.keras.layers.Dense(1, activation='sigmoid')\n",
        "])\n",
        "model.compile(loss='binary_crossentropy',optimizer='adam',metrics=['accuracy'])\n",
        "model.summary()\n",
        "\n",
        "num_epochs = 50\n",
        "\n",
        "training_padded = np.array(training_sequences)\n",
        "training_labels = np.array(training_labels)\n",
        "testing_padded = np.array(test_sequences)\n",
        "testing_labels = np.array(test_labels)\n",
        "\n",
        "history = model.fit(training_padded, training_labels, epochs=num_epochs, validation_data=(testing_padded, testing_labels), verbose=2)\n",
        "\n",
        "print(\"Training Complete\")"
      ],
      "execution_count": 9,
      "outputs": [
        {
          "output_type": "stream",
          "text": [
            "Model: \"sequential\"\n",
            "_________________________________________________________________\n",
            "Layer (type)                 Output Shape              Param #   \n",
            "=================================================================\n",
            "embedding (Embedding)        (None, 16, 100)           13814900  \n",
            "_________________________________________________________________\n",
            "dropout (Dropout)            (None, 16, 100)           0         \n",
            "_________________________________________________________________\n",
            "conv1d (Conv1D)              (None, 12, 64)            32064     \n",
            "_________________________________________________________________\n",
            "max_pooling1d (MaxPooling1D) (None, 3, 64)             0         \n",
            "_________________________________________________________________\n",
            "lstm (LSTM)                  (None, 64)                33024     \n",
            "_________________________________________________________________\n",
            "dense (Dense)                (None, 1)                 65        \n",
            "=================================================================\n",
            "Total params: 13,880,053\n",
            "Trainable params: 65,153\n",
            "Non-trainable params: 13,814,900\n",
            "_________________________________________________________________\n",
            "Epoch 1/50\n",
            "4500/4500 - 15s - loss: 0.5679 - accuracy: 0.6996 - val_loss: 0.5230 - val_accuracy: 0.7362\n",
            "Epoch 2/50\n",
            "4500/4500 - 15s - loss: 0.5261 - accuracy: 0.7327 - val_loss: 0.5086 - val_accuracy: 0.7430\n",
            "Epoch 3/50\n",
            "4500/4500 - 15s - loss: 0.5087 - accuracy: 0.7456 - val_loss: 0.5045 - val_accuracy: 0.7474\n",
            "Epoch 4/50\n",
            "4500/4500 - 15s - loss: 0.4974 - accuracy: 0.7540 - val_loss: 0.4991 - val_accuracy: 0.7499\n",
            "Epoch 5/50\n",
            "4500/4500 - 15s - loss: 0.4889 - accuracy: 0.7592 - val_loss: 0.4964 - val_accuracy: 0.7523\n",
            "Epoch 6/50\n",
            "4500/4500 - 15s - loss: 0.4802 - accuracy: 0.7652 - val_loss: 0.5021 - val_accuracy: 0.7510\n",
            "Epoch 7/50\n",
            "4500/4500 - 15s - loss: 0.4762 - accuracy: 0.7670 - val_loss: 0.5061 - val_accuracy: 0.7475\n",
            "Epoch 8/50\n",
            "4500/4500 - 16s - loss: 0.4709 - accuracy: 0.7705 - val_loss: 0.5011 - val_accuracy: 0.7506\n",
            "Epoch 9/50\n",
            "4500/4500 - 15s - loss: 0.4663 - accuracy: 0.7751 - val_loss: 0.5021 - val_accuracy: 0.7511\n",
            "Epoch 10/50\n",
            "4500/4500 - 14s - loss: 0.4616 - accuracy: 0.7772 - val_loss: 0.5025 - val_accuracy: 0.7496\n",
            "Epoch 11/50\n",
            "4500/4500 - 15s - loss: 0.4588 - accuracy: 0.7786 - val_loss: 0.5022 - val_accuracy: 0.7501\n",
            "Epoch 12/50\n",
            "4500/4500 - 15s - loss: 0.4565 - accuracy: 0.7795 - val_loss: 0.5052 - val_accuracy: 0.7561\n",
            "Epoch 13/50\n",
            "4500/4500 - 15s - loss: 0.4540 - accuracy: 0.7817 - val_loss: 0.5079 - val_accuracy: 0.7533\n",
            "Epoch 14/50\n",
            "4500/4500 - 15s - loss: 0.4516 - accuracy: 0.7832 - val_loss: 0.5022 - val_accuracy: 0.7542\n",
            "Epoch 15/50\n",
            "4500/4500 - 15s - loss: 0.4505 - accuracy: 0.7833 - val_loss: 0.5083 - val_accuracy: 0.7501\n",
            "Epoch 16/50\n",
            "4500/4500 - 15s - loss: 0.4467 - accuracy: 0.7860 - val_loss: 0.5099 - val_accuracy: 0.7505\n",
            "Epoch 17/50\n",
            "4500/4500 - 15s - loss: 0.4452 - accuracy: 0.7863 - val_loss: 0.5112 - val_accuracy: 0.7501\n",
            "Epoch 18/50\n",
            "4500/4500 - 15s - loss: 0.4447 - accuracy: 0.7873 - val_loss: 0.5127 - val_accuracy: 0.7498\n",
            "Epoch 19/50\n",
            "4500/4500 - 15s - loss: 0.4431 - accuracy: 0.7873 - val_loss: 0.5171 - val_accuracy: 0.7504\n",
            "Epoch 20/50\n",
            "4500/4500 - 15s - loss: 0.4414 - accuracy: 0.7884 - val_loss: 0.5107 - val_accuracy: 0.7529\n",
            "Epoch 21/50\n",
            "4500/4500 - 15s - loss: 0.4392 - accuracy: 0.7898 - val_loss: 0.5085 - val_accuracy: 0.7486\n",
            "Epoch 22/50\n",
            "4500/4500 - 15s - loss: 0.4385 - accuracy: 0.7905 - val_loss: 0.5125 - val_accuracy: 0.7519\n",
            "Epoch 23/50\n",
            "4500/4500 - 15s - loss: 0.4383 - accuracy: 0.7908 - val_loss: 0.5118 - val_accuracy: 0.7499\n",
            "Epoch 24/50\n",
            "4500/4500 - 15s - loss: 0.4376 - accuracy: 0.7909 - val_loss: 0.5152 - val_accuracy: 0.7506\n",
            "Epoch 25/50\n",
            "4500/4500 - 15s - loss: 0.4355 - accuracy: 0.7926 - val_loss: 0.5116 - val_accuracy: 0.7510\n",
            "Epoch 26/50\n",
            "4500/4500 - 15s - loss: 0.4346 - accuracy: 0.7928 - val_loss: 0.5169 - val_accuracy: 0.7458\n",
            "Epoch 27/50\n",
            "4500/4500 - 15s - loss: 0.4343 - accuracy: 0.7930 - val_loss: 0.5107 - val_accuracy: 0.7526\n",
            "Epoch 28/50\n",
            "4500/4500 - 16s - loss: 0.4331 - accuracy: 0.7948 - val_loss: 0.5088 - val_accuracy: 0.7487\n",
            "Epoch 29/50\n",
            "4500/4500 - 15s - loss: 0.4330 - accuracy: 0.7945 - val_loss: 0.5156 - val_accuracy: 0.7471\n",
            "Epoch 30/50\n",
            "4500/4500 - 15s - loss: 0.4314 - accuracy: 0.7952 - val_loss: 0.5295 - val_accuracy: 0.7443\n",
            "Epoch 31/50\n",
            "4500/4500 - 15s - loss: 0.4310 - accuracy: 0.7948 - val_loss: 0.5197 - val_accuracy: 0.7486\n",
            "Epoch 32/50\n",
            "4500/4500 - 15s - loss: 0.4315 - accuracy: 0.7949 - val_loss: 0.5215 - val_accuracy: 0.7462\n",
            "Epoch 33/50\n",
            "4500/4500 - 15s - loss: 0.4296 - accuracy: 0.7969 - val_loss: 0.5165 - val_accuracy: 0.7479\n",
            "Epoch 34/50\n",
            "4500/4500 - 15s - loss: 0.4293 - accuracy: 0.7964 - val_loss: 0.5209 - val_accuracy: 0.7488\n",
            "Epoch 35/50\n",
            "4500/4500 - 15s - loss: 0.4299 - accuracy: 0.7953 - val_loss: 0.5235 - val_accuracy: 0.7462\n",
            "Epoch 36/50\n",
            "4500/4500 - 15s - loss: 0.4284 - accuracy: 0.7965 - val_loss: 0.5160 - val_accuracy: 0.7505\n",
            "Epoch 37/50\n",
            "4500/4500 - 15s - loss: 0.4286 - accuracy: 0.7966 - val_loss: 0.5184 - val_accuracy: 0.7456\n",
            "Epoch 38/50\n",
            "4500/4500 - 15s - loss: 0.4289 - accuracy: 0.7958 - val_loss: 0.5205 - val_accuracy: 0.7501\n",
            "Epoch 39/50\n",
            "4500/4500 - 15s - loss: 0.4272 - accuracy: 0.7972 - val_loss: 0.5184 - val_accuracy: 0.7481\n",
            "Epoch 40/50\n",
            "4500/4500 - 15s - loss: 0.4276 - accuracy: 0.7964 - val_loss: 0.5181 - val_accuracy: 0.7474\n",
            "Epoch 41/50\n",
            "4500/4500 - 15s - loss: 0.4278 - accuracy: 0.7974 - val_loss: 0.5202 - val_accuracy: 0.7442\n",
            "Epoch 42/50\n",
            "4500/4500 - 15s - loss: 0.4257 - accuracy: 0.7979 - val_loss: 0.5269 - val_accuracy: 0.7452\n",
            "Epoch 43/50\n",
            "4500/4500 - 15s - loss: 0.4275 - accuracy: 0.7975 - val_loss: 0.5173 - val_accuracy: 0.7465\n",
            "Epoch 44/50\n",
            "4500/4500 - 15s - loss: 0.4265 - accuracy: 0.7974 - val_loss: 0.5227 - val_accuracy: 0.7450\n",
            "Epoch 45/50\n",
            "4500/4500 - 15s - loss: 0.4265 - accuracy: 0.7981 - val_loss: 0.5198 - val_accuracy: 0.7481\n",
            "Epoch 46/50\n",
            "4500/4500 - 15s - loss: 0.4246 - accuracy: 0.7983 - val_loss: 0.5188 - val_accuracy: 0.7467\n",
            "Epoch 47/50\n",
            "4500/4500 - 15s - loss: 0.4267 - accuracy: 0.7963 - val_loss: 0.5216 - val_accuracy: 0.7458\n",
            "Epoch 48/50\n",
            "4500/4500 - 15s - loss: 0.4237 - accuracy: 0.7985 - val_loss: 0.5250 - val_accuracy: 0.7492\n",
            "Epoch 49/50\n",
            "4500/4500 - 16s - loss: 0.4251 - accuracy: 0.7983 - val_loss: 0.5220 - val_accuracy: 0.7468\n",
            "Epoch 50/50\n",
            "4500/4500 - 15s - loss: 0.4246 - accuracy: 0.7991 - val_loss: 0.5208 - val_accuracy: 0.7481\n",
            "Training Complete\n"
          ],
          "name": "stdout"
        }
      ]
    },
    {
      "cell_type": "code",
      "metadata": {
        "colab_type": "code",
        "id": "qxju4ItJKO8F",
        "colab": {
          "base_uri": "https://localhost:8080/",
          "height": 606
        },
        "outputId": "86aca76b-949f-481e-abb6-b36c47f67353"
      },
      "source": [
        "import matplotlib.image  as mpimg\n",
        "import matplotlib.pyplot as plt\n",
        "\n",
        "#-----------------------------------------------------------\n",
        "# Retrieve a list of list results on training and test data\n",
        "# sets for each training epoch\n",
        "#-----------------------------------------------------------\n",
        "acc=history.history['accuracy']\n",
        "val_acc=history.history['val_accuracy']\n",
        "loss=history.history['loss']\n",
        "val_loss=history.history['val_loss']\n",
        "\n",
        "epochs=range(len(acc)) # Get number of epochs\n",
        "\n",
        "#------------------------------------------------\n",
        "# Plot training and validation accuracy per epoch\n",
        "#------------------------------------------------\n",
        "plt.plot(epochs, acc, 'r')\n",
        "plt.plot(epochs, val_acc, 'b')\n",
        "plt.title('Training and validation accuracy')\n",
        "plt.xlabel(\"Epochs\")\n",
        "plt.ylabel(\"Accuracy\")\n",
        "plt.legend([\"Accuracy\", \"Validation Accuracy\"])\n",
        "\n",
        "plt.figure()\n",
        "\n",
        "#------------------------------------------------\n",
        "# Plot training and validation loss per epoch\n",
        "#------------------------------------------------\n",
        "plt.plot(epochs, loss, 'r')\n",
        "plt.plot(epochs, val_loss, 'b')\n",
        "plt.title('Training and validation loss')\n",
        "plt.xlabel(\"Epochs\")\n",
        "plt.ylabel(\"Loss\")\n",
        "plt.legend([\"Loss\", \"Validation Loss\"])\n",
        "\n",
        "plt.figure()\n",
        "\n",
        "\n",
        "# Expected Output\n",
        "# A chart where the validation loss does not increase sharply!"
      ],
      "execution_count": 10,
      "outputs": [
        {
          "output_type": "execute_result",
          "data": {
            "text/plain": [
              "<Figure size 432x288 with 0 Axes>"
            ]
          },
          "metadata": {
            "tags": []
          },
          "execution_count": 10
        },
        {
          "output_type": "display_data",
          "data": {
            "image/png": "[encoded data removed]",
            "text/plain": [
              "<Figure size 432x288 with 1 Axes>"
            ]
          },
          "metadata": {
            "tags": [],
            "needs_background": "light"
          }
        },
        {
          "output_type": "display_data",
          "data": {
            "image/png": "[encoded data removed]",
            "text/plain": [
              "<Figure size 432x288 with 1 Axes>"
            ]
          },
          "metadata": {
            "tags": [],
            "needs_background": "light"
          }
        },
        {
          "output_type": "display_data",
          "data": {
            "text/plain": [
              "<Figure size 432x288 with 0 Axes>"
            ]
          },
          "metadata": {
            "tags": []
          }
        }
      ]
    }
  ]
}