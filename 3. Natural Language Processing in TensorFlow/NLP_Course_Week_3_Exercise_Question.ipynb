{
  "nbformat": 4,
  "nbformat_minor": 0,
  "metadata": {
    "accelerator": "GPU",
    "colab": {
      "name": "NLP Course - Week 3 Exercise Question.ipynb",
      "provenance": [],
      "toc_visible": true
    },
    "kernelspec": {
      "display_name": "Python 3",
      "name": "python3"
    }
  },
  "cells": [
    {
      "cell_type": "code",
      "metadata": {
        "id": "zX4Kg8DUTKWO",
        "colab_type": "code",
        "colab": {}
      },
      "source": [
        "#@title Licensed under the Apache License, Version 2.0 (the \"License\");\n",
        "# you may not use this file except in compliance with the License.\n",
        "# You may obtain a copy of the License at\n",
        "#\n",
        "# https://www.apache.org/licenses/LICENSE-2.0\n",
        "#\n",
        "# Unless required by applicable law or agreed to in writing, software\n",
        "# distributed under the License is distributed on an \"AS IS\" BASIS,\n",
        "# WITHOUT WARRANTIES OR CONDITIONS OF ANY KIND, either express or implied.\n",
        "# See the License for the specific language governing permissions and\n",
        "# limitations under the License."
      ],
      "execution_count": null,
      "outputs": []
    },
    {
      "cell_type": "code",
      "metadata": {
        "colab_type": "code",
        "id": "hmA6EzkQJ5jt",
        "colab": {}
      },
      "source": [
        "import json\n",
        "import tensorflow as tf\n",
        "import csv\n",
        "import random\n",
        "import numpy as np\n",
        "\n",
        "from tensorflow.keras.preprocessing.text import Tokenizer\n",
        "from tensorflow.keras.preprocessing.sequence import pad_sequences\n",
        "from tensorflow.keras.utils import to_categorical\n",
        "from tensorflow.keras import regularizers\n",
        "\n",
        "\n",
        "embedding_dim = 100\n",
        "max_length = 16\n",
        "trunc_type='post'\n",
        "padding_type='post'\n",
        "oov_tok = \"<OOV>\"\n",
        "training_size=160000\n",
        "test_portion=.1\n",
        "\n",
        "\n",
        "corpus = []\n"
      ],
      "execution_count": 55,
      "outputs": []
    },
    {
      "cell_type": "code",
      "metadata": {
        "colab_type": "code",
        "id": "bM0l_dORKqE0",
        "colab": {
          "base_uri": "https://localhost:8080/",
          "height": 202
        },
        "outputId": "db082c1a-18f5-474a-fafc-27ac5c027deb"
      },
      "source": [
        "# Note that I cleaned the Stanford dataset to remove LATIN1 encoding to make it easier for Python CSV reader\n",
        "# You can do that yourself with:\n",
        "# iconv -f LATIN1 -t UTF8 training.1600000.processed.noemoticon.csv -o training_cleaned.csv\n",
        "# I then hosted it on my site to make it easier to use in this notebook\n",
        "\n",
        "!wget --no-check-certificate \\\n",
        "    https://storage.googleapis.com/laurencemoroney-blog.appspot.com/training_cleaned.csv \\\n",
        "    -O /tmp/training_cleaned.csv\n",
        "\n",
        "num_sentences = 0\n",
        "\n",
        "# with open(\"/tmp/training_cleaned.csv\") as csvfile:\n",
        "#     reader = csv.reader(csvfile, delimiter=',')\n",
        "#     for row in reader:\n",
        "#       # Your Code here. Create list items where the first item is the text, found in row[5], and the second is the label. Note that the label is a '0' or a '4' in the text. When it's the former, make\n",
        "#       # your label to be 0, otherwise 1. Keep a count of the number of sentences in num_sentences\n",
        "#         list_item = []\n",
        "#         list_item.append(row[5])\n",
        "#         this_label = row[0]\n",
        "#         if this_label == '0':\n",
        "#             list_item.append(0)\n",
        "#         else:\n",
        "#             list_item.append(1)\n",
        "#         num_sentences = num_sentences + 1\n",
        "#         corpus.append(list_item)\n",
        "\n",
        "with open(\"/tmp/training_cleaned.csv\") as csvfile:\n",
        "    reader = csv.reader(csvfile, delimiter=',')\n",
        "    for row in reader:\n",
        "        list_item=[]\n",
        "        list_item.append(row[5])\n",
        "        this_label=row[0]\n",
        "        if this_label=='0':\n",
        "            list_item.append(0)\n",
        "        else:\n",
        "            list_item.append(1)\n",
        "        num_sentences = num_sentences + 1\n",
        "        corpus.append(list_item)\n"
      ],
      "execution_count": 56,
      "outputs": [
        {
          "output_type": "stream",
          "text": [
            "--2020-07-21 13:52:04--  https://storage.googleapis.com/laurencemoroney-blog.appspot.com/training_cleaned.csv\n",
            "Resolving storage.googleapis.com (storage.googleapis.com)... 173.194.216.128, 173.194.217.128, 172.217.204.128, ...\n",
            "Connecting to storage.googleapis.com (storage.googleapis.com)|173.194.216.128|:443... connected.\n",
            "HTTP request sent, awaiting response... 200 OK\n",
            "Length: 238942690 (228M) [application/octet-stream]\n",
            "Saving to: ‘/tmp/training_cleaned.csv’\n",
            "\n",
            "/tmp/training_clean 100%[===================>] 227.87M   116MB/s    in 2.0s    \n",
            "\n",
            "2020-07-21 13:52:06 (116 MB/s) - ‘/tmp/training_cleaned.csv’ saved [238942690/238942690]\n",
            "\n"
          ],
          "name": "stdout"
        }
      ]
    },
    {
      "cell_type": "code",
      "metadata": {
        "colab_type": "code",
        "id": "3kxblBUjEUX-",
        "colab": {
          "base_uri": "https://localhost:8080/",
          "height": 67
        },
        "outputId": "17e3538f-0ec5-41c9-966f-bd2cfba070e0"
      },
      "source": [
        "print(num_sentences)\n",
        "print(len(corpus))\n",
        "print(corpus[1])\n",
        "\n",
        "# Expected Output:\n",
        "# 1600000\n",
        "# 1600000\n",
        "# [\"is upset that he can't update his Facebook by texting it... and might cry as a result  School today also. Blah!\", 0]"
      ],
      "execution_count": 58,
      "outputs": [
        {
          "output_type": "stream",
          "text": [
            "1600000\n",
            "1600000\n",
            "[\"is upset that he can't update his Facebook by texting it... and might cry as a result  School today also. Blah!\", 0]\n"
          ],
          "name": "stdout"
        }
      ]
    },
    {
      "cell_type": "code",
      "metadata": {
        "colab_type": "code",
        "id": "ohOGz24lsNAD",
        "colab": {}
      },
      "source": [
        "# for x in range(training_size):\n",
        "#     sentences.append(corpus[x][0])\n",
        "#     labels.append(corpus[x][1])\n",
        "\n",
        "\n",
        "# tokenizer = Tokenizer()\n",
        "# tokenizer.fit_on_texts(sentences)\n",
        "\n",
        "# word_index = tokenizer.word_index\n",
        "# vocab_size=len(word_index)\n",
        "\n",
        "# sequences = tokenizer.texts_to_sequences(sentences)\n",
        "# padded = pad_sequences(sequences, maxlen=max_length, padding=padding_type, truncating=trunc_type)\n",
        "\n",
        "# split = int(test_portion * training_size)\n",
        "\n",
        "# test_sequences = padded[0:split]\n",
        "# training_sequences = padded[split:training_size]\n",
        "# test_labels = labels[0:split]\n",
        "# training_labels = labels[split:training_size]\n",
        "\n",
        "sentences=[]\n",
        "labels=[]\n",
        "random.shuffle(corpus)\n",
        "for x in range(training_size):\n",
        "    sentences.append(corpus[x][0])\n",
        "    labels.append(corpus[x][1])\n",
        "\n",
        "\n",
        "tokenizer = Tokenizer()\n",
        "tokenizer.fit_on_texts(sentences)\n",
        "\n",
        "word_index = tokenizer.word_index\n",
        "vocab_size=len(word_index)\n",
        "\n",
        "sequences = tokenizer.texts_to_sequences(sentences)\n",
        "padded = pad_sequences(sequences, maxlen=max_length, padding=padding_type, truncating=trunc_type)\n",
        "\n",
        "split = int(test_portion * training_size)\n",
        "\n",
        "test_sequences = padded[0:split]\n",
        "training_sequences = padded[split:training_size]\n",
        "test_labels = labels[0:split]\n",
        "training_labels = labels[split:training_size]"
      ],
      "execution_count": 59,
      "outputs": []
    },
    {
      "cell_type": "code",
      "metadata": {
        "colab_type": "code",
        "id": "gIrtRem1En3N",
        "colab": {
          "base_uri": "https://localhost:8080/",
          "height": 50
        },
        "outputId": "8b882e4f-9fa6-429b-f491-ab342de4971f"
      },
      "source": [
        "print(vocab_size)\n",
        "print(word_index['i'])\n",
        "# Expected Output\n",
        "# 138858\n",
        "# 1"
      ],
      "execution_count": 62,
      "outputs": [
        {
          "output_type": "stream",
          "text": [
            "138352\n",
            "1\n"
          ],
          "name": "stdout"
        }
      ]
    },
    {
      "cell_type": "code",
      "metadata": {
        "colab_type": "code",
        "id": "C1zdgJkusRh0",
        "colab": {
          "base_uri": "https://localhost:8080/",
          "height": 202
        },
        "outputId": "4bb33690-02c0-4193-9ede-047de20af6b3"
      },
      "source": [
        "# Note this is the 100 dimension version of GloVe from Stanford\n",
        "# I unzipped and hosted it on my site to make this notebook easier\n",
        "!wget --no-check-certificate \\\n",
        "    https://storage.googleapis.com/laurencemoroney-blog.appspot.com/glove.6B.100d.txt \\\n",
        "    -O /tmp/glove.6B.100d.txt\n",
        "embeddings_index = {};\n",
        "with open('/tmp/glove.6B.100d.txt') as f:\n",
        "    for line in f:\n",
        "        values = line.split();\n",
        "        word = values[0];\n",
        "        coefs = np.asarray(values[1:], dtype='float32');\n",
        "        embeddings_index[word] = coefs;\n",
        "\n",
        "embeddings_matrix = np.zeros((vocab_size+1, embedding_dim));\n",
        "for word, i in word_index.items():\n",
        "    embedding_vector = embeddings_index.get(word);\n",
        "    if embedding_vector is not None:\n",
        "        embeddings_matrix[i] = embedding_vector;"
      ],
      "execution_count": 63,
      "outputs": [
        {
          "output_type": "stream",
          "text": [
            "--2020-07-21 13:54:36--  https://storage.googleapis.com/laurencemoroney-blog.appspot.com/glove.6B.100d.txt\n",
            "Resolving storage.googleapis.com (storage.googleapis.com)... 173.194.217.128, 64.233.170.128, 172.217.193.128, ...\n",
            "Connecting to storage.googleapis.com (storage.googleapis.com)|173.194.217.128|:443... connected.\n",
            "HTTP request sent, awaiting response... 200 OK\n",
            "Length: 347116733 (331M) [text/plain]\n",
            "Saving to: ‘/tmp/glove.6B.100d.txt’\n",
            "\n",
            "/tmp/glove.6B.100d. 100%[===================>] 331.04M   176MB/s    in 1.9s    \n",
            "\n",
            "2020-07-21 13:54:38 (176 MB/s) - ‘/tmp/glove.6B.100d.txt’ saved [347116733/347116733]\n",
            "\n"
          ],
          "name": "stdout"
        }
      ]
    },
    {
      "cell_type": "code",
      "metadata": {
        "colab_type": "code",
        "id": "71NLk_lpFLNt",
        "colab": {
          "base_uri": "https://localhost:8080/",
          "height": 34
        },
        "outputId": "cfd4ef0c-83ce-4004-84b4-34e98deba444"
      },
      "source": [
        "print(len(embeddings_matrix))\n",
        "# Expected Output\n",
        "# 138859"
      ],
      "execution_count": 64,
      "outputs": [
        {
          "output_type": "stream",
          "text": [
            "138353\n"
          ],
          "name": "stdout"
        }
      ]
    },
    {
      "cell_type": "code",
      "metadata": {
        "colab_type": "code",
        "id": "iKKvbuEBOGFz",
        "colab": {
          "base_uri": "https://localhost:8080/",
          "height": 1000
        },
        "outputId": "577bacf6-e4c8-4f65-8a50-12f65fbc7f4e"
      },
      "source": [
        "\n",
        "model = tf.keras.Sequential([\n",
        "    tf.keras.layers.Embedding(vocab_size+1, embedding_dim, input_length=max_length, weights=[embeddings_matrix], trainable=False),\n",
        "    tf.keras.layers.Dropout(0.2),\n",
        "    tf.keras.layers.Conv1D(64, 5, activation='relu'),\n",
        "    tf.keras.layers.MaxPooling1D(pool_size=4),\n",
        "    tf.keras.layers.LSTM(64),\n",
        "    tf.keras.layers.Dense(1, activation='sigmoid')\n",
        "])\n",
        "model.compile(loss='binary_crossentropy',optimizer='adam',metrics=['accuracy'])\n",
        "model.summary()\n",
        "\n",
        "num_epochs = 50\n",
        "\n",
        "training_padded = np.array(training_sequences)\n",
        "training_labels = np.array(training_labels)\n",
        "testing_padded = np.array(test_sequences)\n",
        "testing_labels = np.array(test_labels)\n",
        "\n",
        "history = model.fit(training_padded, training_labels, epochs=num_epochs, validation_data=(testing_padded, testing_labels), verbose=2)\n",
        "\n",
        "print(\"Training Complete\")\n"
      ],
      "execution_count": 65,
      "outputs": [
        {
          "output_type": "stream",
          "text": [
            "Model: \"sequential_5\"\n",
            "_________________________________________________________________\n",
            "Layer (type)                 Output Shape              Param #   \n",
            "=================================================================\n",
            "embedding_5 (Embedding)      (None, 16, 100)           13835300  \n",
            "_________________________________________________________________\n",
            "dropout_5 (Dropout)          (None, 16, 100)           0         \n",
            "_________________________________________________________________\n",
            "conv1d_5 (Conv1D)            (None, 12, 64)            32064     \n",
            "_________________________________________________________________\n",
            "max_pooling1d_5 (MaxPooling1 (None, 3, 64)             0         \n",
            "_________________________________________________________________\n",
            "lstm (LSTM)                  (None, 64)                33024     \n",
            "_________________________________________________________________\n",
            "dense_10 (Dense)             (None, 1)                 65        \n",
            "=================================================================\n",
            "Total params: 13,900,453\n",
            "Trainable params: 65,153\n",
            "Non-trainable params: 13,835,300\n",
            "_________________________________________________________________\n",
            "Epoch 1/50\n",
            "4500/4500 - 21s - loss: 0.5688 - accuracy: 0.6979 - val_loss: 0.5221 - val_accuracy: 0.7388\n",
            "Epoch 2/50\n",
            "4500/4500 - 20s - loss: 0.5270 - accuracy: 0.7317 - val_loss: 0.5112 - val_accuracy: 0.7433\n",
            "Epoch 3/50\n",
            "4500/4500 - 21s - loss: 0.5100 - accuracy: 0.7447 - val_loss: 0.5117 - val_accuracy: 0.7449\n",
            "Epoch 4/50\n",
            "4500/4500 - 20s - loss: 0.4990 - accuracy: 0.7522 - val_loss: 0.5212 - val_accuracy: 0.7327\n",
            "Epoch 5/50\n",
            "4500/4500 - 20s - loss: 0.4908 - accuracy: 0.7579 - val_loss: 0.5008 - val_accuracy: 0.7530\n",
            "Epoch 6/50\n",
            "4500/4500 - 20s - loss: 0.4836 - accuracy: 0.7625 - val_loss: 0.5074 - val_accuracy: 0.7456\n",
            "Epoch 7/50\n",
            "4500/4500 - 20s - loss: 0.4771 - accuracy: 0.7659 - val_loss: 0.5066 - val_accuracy: 0.7516\n",
            "Epoch 8/50\n",
            "4500/4500 - 20s - loss: 0.4720 - accuracy: 0.7694 - val_loss: 0.5016 - val_accuracy: 0.7571\n",
            "Epoch 9/50\n",
            "4500/4500 - 20s - loss: 0.4680 - accuracy: 0.7707 - val_loss: 0.4995 - val_accuracy: 0.7528\n",
            "Epoch 10/50\n",
            "4500/4500 - 21s - loss: 0.4637 - accuracy: 0.7753 - val_loss: 0.5001 - val_accuracy: 0.7554\n",
            "Epoch 11/50\n",
            "4500/4500 - 20s - loss: 0.4591 - accuracy: 0.7771 - val_loss: 0.5043 - val_accuracy: 0.7535\n",
            "Epoch 12/50\n",
            "4500/4500 - 20s - loss: 0.4570 - accuracy: 0.7783 - val_loss: 0.5050 - val_accuracy: 0.7548\n",
            "Epoch 13/50\n",
            "4500/4500 - 20s - loss: 0.4537 - accuracy: 0.7796 - val_loss: 0.5052 - val_accuracy: 0.7509\n",
            "Epoch 14/50\n",
            "4500/4500 - 20s - loss: 0.4509 - accuracy: 0.7822 - val_loss: 0.5044 - val_accuracy: 0.7544\n",
            "Epoch 15/50\n",
            "4500/4500 - 20s - loss: 0.4502 - accuracy: 0.7828 - val_loss: 0.5088 - val_accuracy: 0.7509\n",
            "Epoch 16/50\n",
            "4500/4500 - 20s - loss: 0.4482 - accuracy: 0.7845 - val_loss: 0.5123 - val_accuracy: 0.7531\n",
            "Epoch 17/50\n",
            "4500/4500 - 20s - loss: 0.4461 - accuracy: 0.7856 - val_loss: 0.5191 - val_accuracy: 0.7437\n",
            "Epoch 18/50\n",
            "4500/4500 - 21s - loss: 0.4440 - accuracy: 0.7854 - val_loss: 0.5176 - val_accuracy: 0.7509\n",
            "Epoch 19/50\n",
            "4500/4500 - 21s - loss: 0.4437 - accuracy: 0.7865 - val_loss: 0.5089 - val_accuracy: 0.7536\n",
            "Epoch 20/50\n",
            "4500/4500 - 20s - loss: 0.4427 - accuracy: 0.7860 - val_loss: 0.5144 - val_accuracy: 0.7527\n",
            "Epoch 21/50\n",
            "4500/4500 - 20s - loss: 0.4404 - accuracy: 0.7879 - val_loss: 0.5135 - val_accuracy: 0.7535\n",
            "Epoch 22/50\n",
            "4500/4500 - 20s - loss: 0.4392 - accuracy: 0.7892 - val_loss: 0.5069 - val_accuracy: 0.7562\n",
            "Epoch 23/50\n",
            "4500/4500 - 20s - loss: 0.4393 - accuracy: 0.7890 - val_loss: 0.5146 - val_accuracy: 0.7528\n",
            "Epoch 24/50\n",
            "4500/4500 - 20s - loss: 0.4381 - accuracy: 0.7899 - val_loss: 0.5183 - val_accuracy: 0.7434\n",
            "Epoch 25/50\n",
            "4500/4500 - 20s - loss: 0.4367 - accuracy: 0.7902 - val_loss: 0.5141 - val_accuracy: 0.7504\n",
            "Epoch 26/50\n",
            "4500/4500 - 20s - loss: 0.4358 - accuracy: 0.7911 - val_loss: 0.5179 - val_accuracy: 0.7493\n",
            "Epoch 27/50\n",
            "4500/4500 - 20s - loss: 0.4348 - accuracy: 0.7908 - val_loss: 0.5191 - val_accuracy: 0.7504\n",
            "Epoch 28/50\n",
            "4500/4500 - 20s - loss: 0.4343 - accuracy: 0.7914 - val_loss: 0.5168 - val_accuracy: 0.7552\n",
            "Epoch 29/50\n",
            "4500/4500 - 20s - loss: 0.4334 - accuracy: 0.7926 - val_loss: 0.5183 - val_accuracy: 0.7508\n",
            "Epoch 30/50\n",
            "4500/4500 - 20s - loss: 0.4319 - accuracy: 0.7934 - val_loss: 0.5167 - val_accuracy: 0.7523\n",
            "Epoch 31/50\n",
            "4500/4500 - 20s - loss: 0.4328 - accuracy: 0.7923 - val_loss: 0.5149 - val_accuracy: 0.7535\n",
            "Epoch 32/50\n",
            "4500/4500 - 20s - loss: 0.4314 - accuracy: 0.7938 - val_loss: 0.5154 - val_accuracy: 0.7488\n",
            "Epoch 33/50\n",
            "4500/4500 - 20s - loss: 0.4310 - accuracy: 0.7948 - val_loss: 0.5187 - val_accuracy: 0.7479\n",
            "Epoch 34/50\n",
            "4500/4500 - 21s - loss: 0.4298 - accuracy: 0.7953 - val_loss: 0.5190 - val_accuracy: 0.7504\n",
            "Epoch 35/50\n",
            "4500/4500 - 20s - loss: 0.4292 - accuracy: 0.7948 - val_loss: 0.5183 - val_accuracy: 0.7498\n",
            "Epoch 36/50\n",
            "4500/4500 - 20s - loss: 0.4298 - accuracy: 0.7942 - val_loss: 0.5197 - val_accuracy: 0.7534\n",
            "Epoch 37/50\n",
            "4500/4500 - 20s - loss: 0.4288 - accuracy: 0.7956 - val_loss: 0.5331 - val_accuracy: 0.7436\n",
            "Epoch 38/50\n",
            "4500/4500 - 20s - loss: 0.4295 - accuracy: 0.7954 - val_loss: 0.5184 - val_accuracy: 0.7496\n",
            "Epoch 39/50\n",
            "4500/4500 - 20s - loss: 0.4273 - accuracy: 0.7969 - val_loss: 0.5225 - val_accuracy: 0.7516\n",
            "Epoch 40/50\n",
            "4500/4500 - 20s - loss: 0.4281 - accuracy: 0.7957 - val_loss: 0.5205 - val_accuracy: 0.7461\n",
            "Epoch 41/50\n",
            "4500/4500 - 20s - loss: 0.4289 - accuracy: 0.7955 - val_loss: 0.5202 - val_accuracy: 0.7500\n",
            "Epoch 42/50\n",
            "4500/4500 - 20s - loss: 0.4279 - accuracy: 0.7969 - val_loss: 0.5207 - val_accuracy: 0.7511\n",
            "Epoch 43/50\n",
            "4500/4500 - 20s - loss: 0.4270 - accuracy: 0.7959 - val_loss: 0.5227 - val_accuracy: 0.7481\n",
            "Epoch 44/50\n",
            "4500/4500 - 20s - loss: 0.4270 - accuracy: 0.7967 - val_loss: 0.5210 - val_accuracy: 0.7476\n",
            "Epoch 45/50\n",
            "4500/4500 - 20s - loss: 0.4275 - accuracy: 0.7962 - val_loss: 0.5190 - val_accuracy: 0.7511\n",
            "Epoch 46/50\n",
            "4500/4500 - 21s - loss: 0.4260 - accuracy: 0.7968 - val_loss: 0.5215 - val_accuracy: 0.7516\n",
            "Epoch 47/50\n",
            "4500/4500 - 20s - loss: 0.4253 - accuracy: 0.7977 - val_loss: 0.5225 - val_accuracy: 0.7509\n",
            "Epoch 48/50\n",
            "4500/4500 - 20s - loss: 0.4254 - accuracy: 0.7966 - val_loss: 0.5233 - val_accuracy: 0.7508\n",
            "Epoch 49/50\n",
            "4500/4500 - 21s - loss: 0.4258 - accuracy: 0.7978 - val_loss: 0.5261 - val_accuracy: 0.7484\n",
            "Epoch 50/50\n",
            "4500/4500 - 20s - loss: 0.4255 - accuracy: 0.7978 - val_loss: 0.5228 - val_accuracy: 0.7475\n",
            "Training Complete\n"
          ],
          "name": "stdout"
        }
      ]
    },
    {
      "cell_type": "code",
      "metadata": {
        "colab_type": "code",
        "id": "qxju4ItJKO8F",
        "colab": {
          "base_uri": "https://localhost:8080/",
          "height": 606
        },
        "outputId": "f647e263-994b-4f69-8156-f5d1ef041858"
      },
      "source": [
        "import matplotlib.image  as mpimg\n",
        "import matplotlib.pyplot as plt\n",
        "\n",
        "#-----------------------------------------------------------\n",
        "# Retrieve a list of list results on training and test data\n",
        "# sets for each training epoch\n",
        "#-----------------------------------------------------------\n",
        "acc=history.history['accuracy']\n",
        "val_acc=history.history['val_accuracy']\n",
        "loss=history.history['loss']\n",
        "val_loss=history.history['val_loss']\n",
        "\n",
        "epochs=range(len(acc)) # Get number of epochs\n",
        "\n",
        "#------------------------------------------------\n",
        "# Plot training and validation accuracy per epoch\n",
        "#------------------------------------------------\n",
        "plt.plot(epochs, acc, 'r')\n",
        "plt.plot(epochs, val_acc, 'b')\n",
        "plt.title('Training and validation accuracy')\n",
        "plt.xlabel(\"Epochs\")\n",
        "plt.ylabel(\"Accuracy\")\n",
        "plt.legend([\"Accuracy\", \"Validation Accuracy\"])\n",
        "\n",
        "plt.figure()\n",
        "\n",
        "#------------------------------------------------\n",
        "# Plot training and validation loss per epoch\n",
        "#------------------------------------------------\n",
        "plt.plot(epochs, loss, 'r')\n",
        "plt.plot(epochs, val_loss, 'b')\n",
        "plt.title('Training and validation loss')\n",
        "plt.xlabel(\"Epochs\")\n",
        "plt.ylabel(\"Loss\")\n",
        "plt.legend([\"Loss\", \"Validation Loss\"])\n",
        "\n",
        "plt.figure()\n",
        "\n",
        "\n",
        "# Expected Output\n",
        "# A chart where the validation loss does not increase sharply!"
      ],
      "execution_count": 66,
      "outputs": [
        {
          "output_type": "execute_result",
          "data": {
            "text/plain": [
              "<Figure size 432x288 with 0 Axes>"
            ]
          },
          "metadata": {
            "tags": []
          },
          "execution_count": 66
        },
        {
          "output_type": "display_data",
          "data": {
            "image/png": "[encoded data removed]",
            "text/plain": [
              "<Figure size 432x288 with 1 Axes>"
            ]
          },
          "metadata": {
            "tags": [],
            "needs_background": "light"
          }
        },
        {
          "output_type": "display_data",
          "data": {
            "image/png": "[encoded data removed]",
            "text/plain": [
              "<Figure size 432x288 with 1 Axes>"
            ]
          },
          "metadata": {
            "tags": [],
            "needs_background": "light"
          }
        },
        {
          "output_type": "display_data",
          "data": {
            "text/plain": [
              "<Figure size 432x288 with 0 Axes>"
            ]
          },
          "metadata": {
            "tags": []
          }
        }
      ]
    }
  ]
}