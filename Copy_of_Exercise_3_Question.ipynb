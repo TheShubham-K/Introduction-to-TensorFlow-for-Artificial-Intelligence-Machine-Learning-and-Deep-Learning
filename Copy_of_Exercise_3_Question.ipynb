{
  "nbformat": 4,
  "nbformat_minor": 0,
  "metadata": {
    "colab": {
      "name": "Copy of Exercise 3 - Question.ipynb",
      "version": "0.3.2",
      "provenance": [],
      "collapsed_sections": [],
      "include_colab_link": true
    },
    "kernelspec": {
      "name": "python3",
      "display_name": "Python 3"
    }
  },
  "cells": [
    {
      "cell_type": "markdown",
      "metadata": {
        "id": "view-in-github",
        "colab_type": "text"
      },
      "source": [
        "<a href=\"https://colab.research.google.com/github/vikash0837/-Introduction-to-TensorFlow-for-Artificial-Intelligence-Machine-Learning-and-Deep-Learning/blob/master/Copy_of_Exercise_3_Question.ipynb\" target=\"_parent\"><img src=\"https://colab.research.google.com/assets/colab-badge.svg\" alt=\"Open In Colab\"/></a>"
      ]
    },
    {
      "metadata": {
        "id": "iQjHqsmTAVLU",
        "colab_type": "text"
      },
      "cell_type": "markdown",
      "source": [
        "## Exercise 3\n",
        "In the videos you looked at how you would improve Fashion MNIST using Convolutions. For your exercise see if you can improve MNIST to 99.8% accuracy or more using only a single convolutional layer and a single MaxPooling 2D. You should stop training once the accuracy goes above this amount. It should happen in less than 20 epochs, so it's ok to hard code the number of epochs for training, but your training must end once it hits the above metric. If it doesn't, then you'll need to redesign your layers.\n",
        "\n",
        "I've started the code for you -- you need to finish it!\n",
        "\n",
        "When 99.8% accuracy has been hit, you should print out the string \"Reached 99.8% accuracy so cancelling training!\"\n"
      ]
    },
    {
      "metadata": {
        "id": "sfQRyaJWAIdg",
        "colab_type": "code",
        "colab": {
          "base_uri": "https://localhost:8080/",
          "height": 697
        },
        "outputId": "9ed269ff-d851-4798-a390-d31852b8b102"
      },
      "cell_type": "code",
      "source": [
        "import tensorflow as tf\n",
        "print(tf.__version__)\n",
        "\n",
        "# YOUR CODE STARTS HERE\n",
        "class myCallback(tf.keras.callbacks.Callback):\n",
        "  def on_epoch_end(self, epoch, logs={}):\n",
        "    if(logs.get('acc') > .998):\n",
        "      print(\"\\nReached 99.8% accuracy so cancelling training!\")\n",
        "      self.model.stop_training = True\n",
        "callbacks = myCallback() \n",
        "# YOUR CODE ENDS HERE\n",
        "\n",
        "mnist = tf.keras.datasets.mnist\n",
        "(training_images, training_labels), (test_images, test_labels) = mnist.load_data()\n",
        "\n",
        "## check training and test image size\n",
        "print(\"training image shape:{0} test image shape:{1}\".format(training_images.shape,test_images.shape))\n",
        "\n",
        "# YOUR CODE STARTS HERE\n",
        "training_images = training_images.reshape(training_images.shape[0],training_images.shape[1],training_images.shape[2],1)\n",
        "training_images = training_images/255.0\n",
        "test_images = test_images.reshape(test_images.shape[0],test_images.shape[1],test_images.shape[2],1)\n",
        "test_images = test_images/255.0\n",
        "# YOUR CODE ENDS HERE\n",
        "\n",
        "model = tf.keras.models.Sequential()\n",
        "# YOUR CODE STARTS HERE\n",
        "model.add(tf.keras.layers.Conv2D(64,(3,3),activation='relu',input_shape=(28,28,1)))\n",
        "model.add(tf.keras.layers.MaxPooling2D(2,2))\n",
        "model.add(tf.keras.layers.Flatten())\n",
        "model.add(tf.keras.layers.Dense(524,activation='relu'))\n",
        "model.add(tf.keras.layers.Dense(10,activation='softmax'))\n",
        "          \n",
        "# YOUR CODE ENDS HERE\n",
        "\n",
        "# YOUR CODE STARTS HERE\n",
        "model.compile(optimizer='adam',loss='sparse_categorical_crossentropy',metrics=['accuracy'])\n",
        "model.summary()\n",
        "model.fit(training_images,training_labels,epochs=20,callbacks=[callbacks])\n",
        "# YOUR CODE ENDS HERE\n",
        "\n",
        "test_loss = model.evaluate(test_images, test_labels)"
      ],
      "execution_count": 8,
      "outputs": [
        {
          "output_type": "stream",
          "text": [
            "1.13.1\n",
            "training image shape:(60000, 28, 28) test image shape:(10000, 28, 28)\n",
            "_________________________________________________________________\n",
            "Layer (type)                 Output Shape              Param #   \n",
            "=================================================================\n",
            "conv2d_4 (Conv2D)            (None, 26, 26, 64)        640       \n",
            "_________________________________________________________________\n",
            "max_pooling2d_4 (MaxPooling2 (None, 13, 13, 64)        0         \n",
            "_________________________________________________________________\n",
            "flatten_4 (Flatten)          (None, 10816)             0         \n",
            "_________________________________________________________________\n",
            "dense_7 (Dense)              (None, 524)               5668108   \n",
            "_________________________________________________________________\n",
            "dense_8 (Dense)              (None, 10)                5250      \n",
            "=================================================================\n",
            "Total params: 5,673,998\n",
            "Trainable params: 5,673,998\n",
            "Non-trainable params: 0\n",
            "_________________________________________________________________\n",
            "Epoch 1/20\n",
            "60000/60000 [==============================] - 242s 4ms/sample - loss: 0.1206 - acc: 0.9630\n",
            "Epoch 2/20\n",
            "60000/60000 [==============================] - 243s 4ms/sample - loss: 0.0401 - acc: 0.9871\n",
            "Epoch 3/20\n",
            "60000/60000 [==============================] - 239s 4ms/sample - loss: 0.0232 - acc: 0.9923\n",
            "Epoch 4/20\n",
            "60000/60000 [==============================] - 244s 4ms/sample - loss: 0.0141 - acc: 0.9953\n",
            "Epoch 5/20\n",
            "60000/60000 [==============================] - 242s 4ms/sample - loss: 0.0105 - acc: 0.9966\n",
            "Epoch 6/20\n",
            "60000/60000 [==============================] - 244s 4ms/sample - loss: 0.0064 - acc: 0.9979\n",
            "Epoch 7/20\n",
            "60000/60000 [==============================] - 242s 4ms/sample - loss: 0.0063 - acc: 0.9979\n",
            "Epoch 8/20\n",
            "60000/60000 [==============================] - 243s 4ms/sample - loss: 0.0061 - acc: 0.9979\n",
            "Epoch 9/20\n",
            "59968/60000 [============================>.] - ETA: 0s - loss: 0.0034 - acc: 0.9990\n",
            "Reached 99.8% accuracy so cancelling training!\n",
            "60000/60000 [==============================] - 243s 4ms/sample - loss: 0.0034 - acc: 0.9991\n",
            "10000/10000 [==============================] - 7s 664us/sample - loss: 0.0514 - acc: 0.9884\n"
          ],
          "name": "stdout"
        }
      ]
    },
    {
      "metadata": {
        "id": "2AA7qM5ppFwh",
        "colab_type": "code",
        "colab": {}
      },
      "cell_type": "code",
      "source": [
        ""
      ],
      "execution_count": 0,
      "outputs": []
    }
  ]
}